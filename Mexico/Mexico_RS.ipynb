{
 "cells": [
  {
   "cell_type": "markdown",
   "metadata": {},
   "source": [
    "**Importar librerias**"
   ]
  },
  {
   "cell_type": "code",
   "execution_count": null,
   "metadata": {},
   "outputs": [],
   "source": [
    "import pandas as pd\n",
    "import numpy as np\n",
    "import matplotlib.pyplot as plt\n",
    "import seaborn as sns"
   ]
  },
  {
   "cell_type": "code",
   "execution_count": null,
   "metadata": {},
   "outputs": [],
   "source": [
    "# Cargar archivo desde equipo\n",
    "México = pd.read_csv(\"México sin atipicos.csv\")"
   ]
  },
  {
   "cell_type": "code",
   "execution_count": null,
   "metadata": {},
   "outputs": [],
   "source": [
    "México = México.drop(['Unnamed: 0'], axis=1)\n",
    "México"
   ]
  },
  {
   "cell_type": "code",
   "execution_count": null,
   "metadata": {},
   "outputs": [],
   "source": [
    "México.head(5)"
   ]
  },
  {
   "cell_type": "markdown",
   "metadata": {},
   "source": [
    "**Filtro para las categorias de Room_type**"
   ]
  },
  {
   "cell_type": "code",
   "execution_count": null,
   "metadata": {},
   "outputs": [],
   "source": [
    "#Filtro por objeto\n",
    "filtro1 = México[(México[\"room_type\"] == \"Entire home/apt\")]\n",
    "filtro2 = México[(México[\"room_type\"] == \"Private room\")]\n",
    "filtro3 = México[(México[\"room_type\"] == \"Shared room\")]\n",
    "filtro4 = México[(México[\"room_type\"] == \"Hotel room\")]"
   ]
  },
  {
   "cell_type": "code",
   "execution_count": null,
   "metadata": {},
   "outputs": [],
   "source": [
    "filtro1.to_csv(\"room1_Entire.csv\")\n",
    "filtro2.to_csv(\"room2_Private.csv\")\n",
    "filtro3.to_csv(\"room3_Shared.csv\")\n",
    "filtro4.to_csv(\"room4_Hotel.csv\")"
   ]
  },
  {
   "cell_type": "markdown",
   "metadata": {},
   "source": [
    "**Regresión Lineal Simple para cada DataFrame de room_type**"
   ]
  },
  {
   "cell_type": "markdown",
   "metadata": {},
   "source": [
    "1) Entire home/apt"
   ]
  },
  {
   "cell_type": "markdown",
   "metadata": {},
   "source": [
    "“price vs host_acceptance rate” = “(dependiente, independiente)”"
   ]
  },
  {
   "cell_type": "code",
   "execution_count": null,
   "metadata": {},
   "outputs": [],
   "source": [
    "# Cargar archivo desde equipo\n",
    "Entire = pd.read_csv(\"room1_Entire.csv\")\n",
    "Entire = Entire.drop(['Unnamed: 0'], axis=1)\n",
    "Entire.head(1)"
   ]
  },
  {
   "cell_type": "code",
   "execution_count": null,
   "metadata": {},
   "outputs": [],
   "source": [
    "# Imprimimos el scatter plot entre la variable (total) e independiente (alcohol)\n",
    "# para observar el coportamiento en su dispercion # el coeficiente de correlacion va a salir mas grande \n",
    "from turtle import color\n",
    "\n",
    "sns.scatterplot(x='host_acceptance_rate', y='price', color=\"red\", data=Entire)"
   ]
  },
  {
   "cell_type": "code",
   "execution_count": null,
   "metadata": {},
   "outputs": [],
   "source": [
    "# Declaramos las variables e independientes para la regresion lineal\n",
    "# vars_idep= df[['alcohol','speeding']]\n",
    "Vars_Indep =  Entire[['host_acceptance_rate']]\n",
    "Var_Dep = Entire['price']"
   ]
  },
  {
   "cell_type": "code",
   "execution_count": null,
   "metadata": {},
   "outputs": [],
   "source": [
    "# Se define model como la regresion lineal\n",
    "from sklearn.linear_model import LinearRegression\n",
    "model = LinearRegression()\n",
    "\n",
    "# Verificamos la funcion relacionada al modelo\n",
    "type(model)"
   ]
  },
  {
   "cell_type": "code",
   "execution_count": null,
   "metadata": {},
   "outputs": [],
   "source": [
    "# Ajsutamos el modelo con las variables antes declaradas X:matriz, y: vector\n",
    "model.fit(X=Vars_Indep, y=Var_Dep)"
   ]
  },
  {
   "cell_type": "code",
   "execution_count": null,
   "metadata": {},
   "outputs": [],
   "source": [
    "# Verificamos los coeficientes obtenidos para el modelo ajustado coef-a , intercept-b\n",
    "model.__dict__"
   ]
  },
  {
   "cell_type": "markdown",
   "metadata": {},
   "source": [
    "Modelo matemático: y = 312.08408341 + 937.2304317522714"
   ]
  },
  {
   "cell_type": "code",
   "execution_count": null,
   "metadata": {},
   "outputs": [],
   "source": [
    "# Evaluamos la eficiencia del modelo obtenido por medio del coeficiente R Determinaci\n",
    "model.score(Vars_Indep,Var_Dep)"
   ]
  },
  {
   "cell_type": "code",
   "execution_count": null,
   "metadata": {},
   "outputs": [],
   "source": [
    "# Predecimos los valores de precio a partir de la var host (nos da las predicciones, numero igual de filas)\n",
    "# y_pred= model.predict(X=df[['alcohol','speeding']])\n",
    "y_pred= model.predict(X = Entire[['host_acceptance_rate']])\n",
    "y_pred"
   ]
  },
  {
   "cell_type": "code",
   "execution_count": null,
   "metadata": {},
   "outputs": [],
   "source": [
    "Entire.insert(10,'Predicciones', y_pred)\n",
    "Entire\n"
   ]
  },
  {
   "cell_type": "code",
   "execution_count": null,
   "metadata": {},
   "outputs": [],
   "source": [
    "# Visualizamos la grafica comparativa entre el host_acceptance_rate real y el total predecido\n",
    "sns.scatterplot(x='host_acceptance_rate', y='price', color=\"blue\", data=Entire)\n",
    "sns.scatterplot(x='host_acceptance_rate', y='Predicciones', color=\"red\", data=Entire)\n",
    "# sns.lineplot(x='alcohol', y='Predicciones', color=\"red\",data=df)"
   ]
  },
  {
   "cell_type": "code",
   "execution_count": null,
   "metadata": {},
   "outputs": [],
   "source": [
    "# Corroboramos cual es el coeficiente de Determinacion de nuestro modelo\n",
    "coef_Deter = model.score(X=Vars_Indep, y=Var_Dep)\n",
    "coef_Deter"
   ]
  },
  {
   "cell_type": "code",
   "execution_count": null,
   "metadata": {},
   "outputs": [],
   "source": [
    "# Corroboramos cual es el coeficiente de Correlacion de nuestro modelo\n",
    "coef_Correl = np.sqrt(coef_Deter)\n",
    "coef_Correl"
   ]
  },
  {
   "cell_type": "code",
   "execution_count": null,
   "metadata": {},
   "outputs": [],
   "source": [
    "Entire.info()"
   ]
  },
  {
   "cell_type": "code",
   "execution_count": null,
   "metadata": {},
   "outputs": [],
   "source": [
    "Entire = Entire.drop(Entire.columns[27:51], axis=1)"
   ]
  },
  {
   "cell_type": "code",
   "execution_count": null,
   "metadata": {},
   "outputs": [],
   "source": [
    "# Graficamos todas las disperciones entre todas las variables\n",
    "sns.pairplot(Entire)"
   ]
  },
  {
   "cell_type": "code",
   "execution_count": null,
   "metadata": {},
   "outputs": [],
   "source": [
    "# Encontramos todas las correlaciones entre las variables\n",
    "Corr_Factors = Entire.corr()\n",
    "Corr_Factors"
   ]
  },
  {
   "cell_type": "code",
   "execution_count": null,
   "metadata": {},
   "outputs": [],
   "source": [
    "# Encontramos el valor absoluto de todas las correlaciones entre las variables\n",
    "Corr_Factors1 = abs(Corr_Factors)\n",
    "Corr_Factors1"
   ]
  },
  {
   "cell_type": "code",
   "execution_count": null,
   "metadata": {},
   "outputs": [],
   "source": [
    "# Graficamos el mapa de color de las coeficientes de correlacion\n",
    "Heat_Map = sns.heatmap(Corr_Factors1, cmap = 'Reds')"
   ]
  },
  {
   "cell_type": "markdown",
   "metadata": {},
   "source": [
    "“price vs host_is_superhost” = “(dependiente, independiente)”"
   ]
  },
  {
   "cell_type": "code",
   "execution_count": null,
   "metadata": {},
   "outputs": [],
   "source": [
    "# Cargar archivo desde equipo\n",
    "Entire1 = pd.read_csv(\"room1_Entire.csv\")\n",
    "Entire1 = Entire1.drop(['Unnamed: 0'], axis=1)\n",
    "Entire1.head(1)"
   ]
  },
  {
   "cell_type": "code",
   "execution_count": null,
   "metadata": {},
   "outputs": [],
   "source": [
    "Entire1[\"host_is_superhost\"] = Entire1[\"host_is_superhost\"].replace({\"t\": 1, \"f\": 0})"
   ]
  },
  {
   "cell_type": "code",
   "execution_count": null,
   "metadata": {},
   "outputs": [],
   "source": [
    "Entire1[\"host_is_superhost\"] = Entire1[\"host_is_superhost\"].replace({\"SIN INFORMACION\": 0})"
   ]
  },
  {
   "cell_type": "code",
   "execution_count": null,
   "metadata": {},
   "outputs": [],
   "source": [
    "from turtle import color\n",
    "\n",
    "sns.scatterplot(x='host_is_superhost', y='price', color=\"red\", data=Entire1)"
   ]
  },
  {
   "cell_type": "code",
   "execution_count": null,
   "metadata": {},
   "outputs": [],
   "source": [
    "# Declaramos las variables e independientes para la regresion lineal\n",
    "# vars_idep= df[['alcohol','speeding']]\n",
    "Vars_Indep =  Entire1[['host_is_superhost']]\n",
    "Var_Dep = Entire1['price']"
   ]
  },
  {
   "cell_type": "code",
   "execution_count": null,
   "metadata": {},
   "outputs": [],
   "source": [
    "# Se define model como la regresion lineal\n",
    "from sklearn.linear_model import LinearRegression\n",
    "model = LinearRegression()\n",
    "\n",
    "# Verificamos la funcion relacionada al modelo\n",
    "type(model)\n",
    "\n",
    "# Ajsutamos el modelo con las variables antes declaradas X:matriz, y: vector\n",
    "model.fit(X=Vars_Indep, y=Var_Dep)\n",
    "\n",
    "# Verificamos los coeficientes obtenidos para el modelo ajustado coef-a , intercept-b\n",
    "model.__dict__"
   ]
  },
  {
   "cell_type": "markdown",
   "metadata": {},
   "source": [
    "Modelo matemático y = 14.46712315 + 1241.074614082263"
   ]
  },
  {
   "cell_type": "code",
   "execution_count": null,
   "metadata": {},
   "outputs": [],
   "source": [
    "# Evaluamos la eficiencia del modelo obtenido por medio del coeficiente R Determinaci\n",
    "model.score(Vars_Indep,Var_Dep)"
   ]
  },
  {
   "cell_type": "code",
   "execution_count": null,
   "metadata": {},
   "outputs": [],
   "source": [
    "# Predecimos los valores\n",
    "y_pred= model.predict(X = Entire1[['host_is_superhost']])\n",
    "y_pred"
   ]
  },
  {
   "cell_type": "code",
   "execution_count": null,
   "metadata": {},
   "outputs": [],
   "source": [
    "Entire1.insert(10,'Predicciones', y_pred)\n",
    "Entire1"
   ]
  },
  {
   "cell_type": "code",
   "execution_count": null,
   "metadata": {},
   "outputs": [],
   "source": [
    "# Visualizamos la grafica comparativa entre\n",
    "sns.scatterplot(x='host_is_superhost', y='price', color=\"blue\", data=Entire1)\n",
    "sns.scatterplot(x='host_is_superhost', y='Predicciones', color=\"red\", data=Entire1)"
   ]
  },
  {
   "cell_type": "code",
   "execution_count": null,
   "metadata": {},
   "outputs": [],
   "source": [
    "# Corroboramos cual es el coeficiente de Determinacion de nuestro modelo\n",
    "coef_Deter = model.score(X=Vars_Indep, y=Var_Dep)\n",
    "coef_Deter"
   ]
  },
  {
   "cell_type": "code",
   "execution_count": null,
   "metadata": {},
   "outputs": [],
   "source": [
    "# Corroboramos cual es el coeficiente de Correlacion de nuestro modelo\n",
    "coef_Correl = np.sqrt(coef_Deter)\n",
    "coef_Correl"
   ]
  },
  {
   "cell_type": "code",
   "execution_count": null,
   "metadata": {},
   "outputs": [],
   "source": [
    "Entire1.info()"
   ]
  },
  {
   "cell_type": "code",
   "execution_count": null,
   "metadata": {},
   "outputs": [],
   "source": [
    "Entire1 = Entire1.drop('host_response_time', axis=1)"
   ]
  },
  {
   "cell_type": "code",
   "execution_count": null,
   "metadata": {},
   "outputs": [],
   "source": [
    "# Graficamos todas las disperciones entre todas las variables\n",
    "sns.pairplot(Entire1)"
   ]
  },
  {
   "cell_type": "code",
   "execution_count": null,
   "metadata": {},
   "outputs": [],
   "source": [
    "# Encontramos todas las correlaciones entre las variables\n",
    "Corr_Factors = Entire1.corr()\n",
    "Corr_Factors"
   ]
  },
  {
   "cell_type": "code",
   "execution_count": null,
   "metadata": {},
   "outputs": [],
   "source": [
    "# Encontramos el valor absoluto de todas las correlaciones entre las variables\n",
    "Corr_Factors1 = abs(Corr_Factors)\n",
    "Corr_Factors1"
   ]
  },
  {
   "cell_type": "code",
   "execution_count": null,
   "metadata": {},
   "outputs": [],
   "source": [
    "# Graficamos el mapa de color de las coeficientes de correlacion\n",
    "Heat_Map = sns.heatmap(Corr_Factors1, cmap = 'Reds')"
   ]
  },
  {
   "cell_type": "markdown",
   "metadata": {},
   "source": [
    "“accommodates vs bathrooms” = = “(dependiente, independiente)”"
   ]
  },
  {
   "cell_type": "code",
   "execution_count": null,
   "metadata": {},
   "outputs": [],
   "source": [
    "# Cargar archivo desde equipo\n",
    "Entire2 = pd.read_csv(\"room1_Entire.csv\")\n",
    "Entire2 = Entire2.drop(['Unnamed: 0'], axis=1)\n",
    "Entire2.head(1)"
   ]
  },
  {
   "cell_type": "code",
   "execution_count": null,
   "metadata": {},
   "outputs": [],
   "source": [
    "from turtle import color\n",
    "\n",
    "sns.scatterplot(x='bathrooms', y='accommodates', color=\"red\", data=Entire2)"
   ]
  },
  {
   "cell_type": "code",
   "execution_count": null,
   "metadata": {},
   "outputs": [],
   "source": [
    "# Declaramos las variables e independientes para la regresion lineal\n",
    "# vars_idep= df[['alcohol','speeding']]\n",
    "Vars_Indep =  Entire2[['bathrooms']]\n",
    "Var_Dep = Entire2['accommodates']"
   ]
  },
  {
   "cell_type": "code",
   "execution_count": null,
   "metadata": {},
   "outputs": [],
   "source": [
    "# Se define model como la regresion lineal\n",
    "from sklearn.linear_model import LinearRegression\n",
    "model = LinearRegression()\n",
    "\n",
    "# Verificamos la funcion relacionada al modelo\n",
    "type(model)\n",
    "\n",
    "# Ajsutamos el modelo con las variables antes declaradas X:matriz, y: vector\n",
    "model.fit(X=Vars_Indep, y=Var_Dep)\n",
    "\n",
    "# Verificamos los coeficientes obtenidos para el modelo ajustado coef-a , intercept-b\n",
    "model.__dict__"
   ]
  },
  {
   "cell_type": "markdown",
   "metadata": {},
   "source": [
    "Modelo matemático y = 0.70112457 + 2.5469513180235097"
   ]
  },
  {
   "cell_type": "code",
   "execution_count": null,
   "metadata": {},
   "outputs": [],
   "source": [
    "# Evaluamos la eficiencia del modelo obtenido por medio del coeficiente R Determinaci\n",
    "model.score(Vars_Indep,Var_Dep)"
   ]
  },
  {
   "cell_type": "code",
   "execution_count": null,
   "metadata": {},
   "outputs": [],
   "source": [
    "# Predecimos los valores\n",
    "y_pred= model.predict(X = Entire2[['bathrooms']])\n",
    "y_pred"
   ]
  },
  {
   "cell_type": "code",
   "execution_count": null,
   "metadata": {},
   "outputs": [],
   "source": [
    "Entire2.insert(5,'Predicciones', y_pred)\n",
    "Entire2"
   ]
  },
  {
   "cell_type": "code",
   "execution_count": null,
   "metadata": {},
   "outputs": [],
   "source": [
    "# Visualizamos la grafica comparativa entre\n",
    "sns.scatterplot(x='bathrooms', y='accommodates', color=\"blue\", data=Entire2)\n",
    "sns.scatterplot(x='bathrooms', y='Predicciones', color=\"red\", data=Entire2)"
   ]
  },
  {
   "cell_type": "code",
   "execution_count": null,
   "metadata": {},
   "outputs": [],
   "source": [
    "# Corroboramos cual es el coeficiente de Determinacion de nuestro modelo\n",
    "coef_Deter = model.score(X=Vars_Indep, y=Var_Dep)\n",
    "coef_Deter"
   ]
  },
  {
   "cell_type": "code",
   "execution_count": null,
   "metadata": {},
   "outputs": [],
   "source": [
    "# Corroboramos cual es el coeficiente de Correlacion de nuestro modelo\n",
    "coef_Correl = np.sqrt(coef_Deter)\n",
    "coef_Correl"
   ]
  },
  {
   "cell_type": "code",
   "execution_count": null,
   "metadata": {},
   "outputs": [],
   "source": [
    "Entire2.info()"
   ]
  },
  {
   "cell_type": "code",
   "execution_count": null,
   "metadata": {},
   "outputs": [],
   "source": [
    "Entire2 = Entire2.drop(Entire2.columns[27:51], axis=1)"
   ]
  },
  {
   "cell_type": "code",
   "execution_count": null,
   "metadata": {},
   "outputs": [],
   "source": [
    "# Graficamos todas las disperciones entre todas las variables\n",
    "sns.pairplot(Entire2)"
   ]
  },
  {
   "cell_type": "code",
   "execution_count": null,
   "metadata": {},
   "outputs": [],
   "source": [
    "# Encontramos todas las correlaciones entre las variables\n",
    "Corr_Factors = Entire2.corr()\n",
    "Corr_Factors"
   ]
  },
  {
   "cell_type": "code",
   "execution_count": null,
   "metadata": {},
   "outputs": [],
   "source": [
    "# Encontramos el valor absoluto de todas las correlaciones entre las variables\n",
    "Corr_Factors1 = abs(Corr_Factors)\n",
    "Corr_Factors1"
   ]
  },
  {
   "cell_type": "code",
   "execution_count": null,
   "metadata": {},
   "outputs": [],
   "source": [
    "# Graficamos el mapa de color de las coeficientes de correlacion\n",
    "Heat_Map = sns.heatmap(Corr_Factors1, cmap = 'Reds')"
   ]
  },
  {
   "cell_type": "markdown",
   "metadata": {},
   "source": [
    "“price vs review_scores_cleanliness” = “(dependiente, independiente)”"
   ]
  },
  {
   "cell_type": "code",
   "execution_count": null,
   "metadata": {},
   "outputs": [],
   "source": [
    "# Cargar archivo desde equipo\n",
    "Entire3 = pd.read_csv(\"room1_Entire.csv\")\n",
    "Entire3 = Entire3.drop(['Unnamed: 0'], axis=1)\n",
    "Entire3.head(1)"
   ]
  },
  {
   "cell_type": "code",
   "execution_count": null,
   "metadata": {},
   "outputs": [],
   "source": [
    "from turtle import color\n",
    "\n",
    "sns.scatterplot(x='review_scores_cleanliness', y='price', color=\"red\", data=Entire3)"
   ]
  },
  {
   "cell_type": "code",
   "execution_count": null,
   "metadata": {},
   "outputs": [],
   "source": [
    "# Declaramos las variables e independientes para la regresion lineal\n",
    "# vars_idep= df[['alcohol','speeding']]\n",
    "Vars_Indep =  Entire3[['review_scores_cleanliness']]\n",
    "Var_Dep = Entire3['price']"
   ]
  },
  {
   "cell_type": "code",
   "execution_count": null,
   "metadata": {},
   "outputs": [],
   "source": [
    "# Se define model como la regresion lineal\n",
    "from sklearn.linear_model import LinearRegression\n",
    "model = LinearRegression()\n",
    "\n",
    "# Verificamos la funcion relacionada al modelo\n",
    "type(model)\n",
    "\n",
    "# Ajsutamos el modelo con las variables antes declaradas X:matriz, y: vector\n",
    "model.fit(X=Vars_Indep, y=Var_Dep)\n",
    "\n",
    "# Verificamos los coeficientes obtenidos para el modelo ajustado coef-a , intercept-b\n",
    "model.__dict__"
   ]
  },
  {
   "cell_type": "markdown",
   "metadata": {},
   "source": [
    "Modelo matemático y = 383.03472775 + (-605.3464627187325)"
   ]
  },
  {
   "cell_type": "code",
   "execution_count": null,
   "metadata": {},
   "outputs": [],
   "source": [
    "# Evaluamos la eficiencia del modelo obtenido por medio del coeficiente R Determinaci\n",
    "model.score(Vars_Indep,Var_Dep)"
   ]
  },
  {
   "cell_type": "code",
   "execution_count": null,
   "metadata": {},
   "outputs": [],
   "source": [
    "# Predecimos los valores\n",
    "y_pred= model.predict(X = Entire3[['review_scores_cleanliness']])\n",
    "y_pred"
   ]
  },
  {
   "cell_type": "code",
   "execution_count": null,
   "metadata": {},
   "outputs": [],
   "source": [
    "Entire3.info()"
   ]
  },
  {
   "cell_type": "code",
   "execution_count": null,
   "metadata": {},
   "outputs": [],
   "source": [
    "Entire3.insert(9,'Predicciones', y_pred)\n",
    "Entire3"
   ]
  },
  {
   "cell_type": "code",
   "execution_count": null,
   "metadata": {},
   "outputs": [],
   "source": [
    "# Visualizamos la grafica comparativa entre\n",
    "sns.scatterplot(x='review_scores_cleanliness', y='price', color=\"blue\", data=Entire3)\n",
    "sns.scatterplot(x='review_scores_cleanliness', y='Predicciones', color=\"red\", data=Entire3)"
   ]
  },
  {
   "cell_type": "code",
   "execution_count": null,
   "metadata": {},
   "outputs": [],
   "source": [
    "# Corroboramos cual es el coeficiente de Determinacion de nuestro modelo\n",
    "coef_Deter = model.score(X=Vars_Indep, y=Var_Dep)\n",
    "coef_Deter"
   ]
  },
  {
   "cell_type": "code",
   "execution_count": null,
   "metadata": {},
   "outputs": [],
   "source": [
    "# Corroboramos cual es el coeficiente de Correlacion de nuestro modelo\n",
    "coef_Correl = np.sqrt(coef_Deter)\n",
    "coef_Correl"
   ]
  },
  {
   "cell_type": "code",
   "execution_count": null,
   "metadata": {},
   "outputs": [],
   "source": [
    "Entire3.info()"
   ]
  },
  {
   "cell_type": "code",
   "execution_count": null,
   "metadata": {},
   "outputs": [],
   "source": [
    "Entire3 = Entire3.drop(Entire3.columns[27:51], axis=1)"
   ]
  },
  {
   "cell_type": "code",
   "execution_count": null,
   "metadata": {},
   "outputs": [],
   "source": [
    "# Graficamos todas las disperciones entre todas las variables\n",
    "sns.pairplot(Entire3)"
   ]
  },
  {
   "cell_type": "code",
   "execution_count": null,
   "metadata": {},
   "outputs": [],
   "source": [
    "# Encontramos todas las correlaciones entre las variables\n",
    "Corr_Factors = Entire3.corr()\n",
    "Corr_Factors"
   ]
  },
  {
   "cell_type": "code",
   "execution_count": null,
   "metadata": {},
   "outputs": [],
   "source": [
    "# Encontramos el valor absoluto de todas las correlaciones entre las variables\n",
    "Corr_Factors1 = abs(Corr_Factors)\n",
    "Corr_Factors1"
   ]
  },
  {
   "cell_type": "code",
   "execution_count": null,
   "metadata": {},
   "outputs": [],
   "source": [
    "# Graficamos el mapa de color de las coeficientes de correlacion\n",
    "Heat_Map = sns.heatmap(Corr_Factors1, cmap = 'Reds')"
   ]
  },
  {
   "cell_type": "markdown",
   "metadata": {},
   "source": [
    "“price vs host_identity_verified” = “(dependiente, independiente)”"
   ]
  },
  {
   "cell_type": "code",
   "execution_count": null,
   "metadata": {},
   "outputs": [],
   "source": [
    "# Cargar archivo desde equipo\n",
    "Entire4 = pd.read_csv(\"room1_Entire.csv\")\n",
    "Entire4 = Entire4.drop(['Unnamed: 0'], axis=1)\n",
    "Entire4.head(1)"
   ]
  },
  {
   "cell_type": "code",
   "execution_count": null,
   "metadata": {},
   "outputs": [],
   "source": [
    "Entire4[\"host_identity_verified\"] = Entire4[\"host_identity_verified\"].replace({\"t\": 1, \"f\": 0})"
   ]
  },
  {
   "cell_type": "code",
   "execution_count": null,
   "metadata": {},
   "outputs": [],
   "source": [
    "from turtle import color\n",
    "\n",
    "sns.scatterplot(x='host_identity_verified', y='price', color=\"red\", data=Entire4)"
   ]
  },
  {
   "cell_type": "code",
   "execution_count": null,
   "metadata": {},
   "outputs": [],
   "source": [
    "# Declaramos las variables e independientes para la regresion lineal\n",
    "# vars_idep= df[['alcohol','speeding']]\n",
    "Vars_Indep =  Entire4[['host_identity_verified']]\n",
    "Var_Dep = Entire4['price']"
   ]
  },
  {
   "cell_type": "code",
   "execution_count": null,
   "metadata": {},
   "outputs": [],
   "source": [
    "# Se define model como la regresion lineal\n",
    "from sklearn.linear_model import LinearRegression\n",
    "model = LinearRegression()\n",
    "\n",
    "# Verificamos la funcion relacionada al modelo\n",
    "type(model)\n",
    "\n",
    "# Ajsutamos el modelo con las variables antes declaradas X:matriz, y: vector\n",
    "model.fit(X=Vars_Indep, y=Var_Dep)\n",
    "\n",
    "# Verificamos los coeficientes obtenidos para el modelo ajustado coef-a , intercept-b\n",
    "model.__dict__"
   ]
  },
  {
   "cell_type": "markdown",
   "metadata": {},
   "source": [
    "Modelo matemático y = -112.80942578 + 1357.171593533486"
   ]
  },
  {
   "cell_type": "code",
   "execution_count": null,
   "metadata": {},
   "outputs": [],
   "source": [
    "# Evaluamos la eficiencia del modelo obtenido por medio del coeficiente R Determinaci\n",
    "model.score(Vars_Indep,Var_Dep)"
   ]
  },
  {
   "cell_type": "code",
   "execution_count": null,
   "metadata": {},
   "outputs": [],
   "source": [
    "# Predecimos los valores\n",
    "y_pred= model.predict(X = Entire4[['host_identity_verified']])\n",
    "y_pred"
   ]
  },
  {
   "cell_type": "code",
   "execution_count": null,
   "metadata": {},
   "outputs": [],
   "source": [
    "Entire4.insert(9,'Predicciones', y_pred)\n",
    "Entire4"
   ]
  },
  {
   "cell_type": "code",
   "execution_count": null,
   "metadata": {},
   "outputs": [],
   "source": [
    "# Visualizamos la grafica comparativa entre\n",
    "sns.scatterplot(x='host_identity_verified', y='price', color=\"blue\", data=Entire4)\n",
    "sns.scatterplot(x='host_identity_verified', y='Predicciones', color=\"red\", data=Entire4)"
   ]
  },
  {
   "cell_type": "code",
   "execution_count": null,
   "metadata": {},
   "outputs": [],
   "source": [
    "# Corroboramos cual es el coeficiente de Determinacion de nuestro modelo\n",
    "coef_Deter = model.score(X=Vars_Indep, y=Var_Dep)\n",
    "coef_Deter"
   ]
  },
  {
   "cell_type": "code",
   "execution_count": null,
   "metadata": {},
   "outputs": [],
   "source": [
    "# Corroboramos cual es el coeficiente de Correlacion de nuestro modelo\n",
    "coef_Correl = np.sqrt(coef_Deter)\n",
    "coef_Correl"
   ]
  },
  {
   "cell_type": "code",
   "execution_count": null,
   "metadata": {},
   "outputs": [],
   "source": [
    "Entire4.info()"
   ]
  },
  {
   "cell_type": "code",
   "execution_count": null,
   "metadata": {},
   "outputs": [],
   "source": [
    "Entire4 = Entire4.drop(Entire4.loc[:, 'last_scraped':'host_has_profile_pic'].columns, axis=1)\n",
    "Entire4 = Entire4.drop(Entire4.loc[:, 'neighbourhood':'instant_bookable'].columns, axis=1)\n",
    "Entire4.info()"
   ]
  },
  {
   "cell_type": "code",
   "execution_count": null,
   "metadata": {},
   "outputs": [],
   "source": [
    "# Graficamos todas las disperciones entre todas las variables\n",
    "sns.pairplot(Entire4)"
   ]
  },
  {
   "cell_type": "code",
   "execution_count": null,
   "metadata": {},
   "outputs": [],
   "source": [
    "# Encontramos todas las correlaciones entre las variables\n",
    "Corr_Factors = Entire4.corr()\n",
    "Corr_Factors"
   ]
  },
  {
   "cell_type": "code",
   "execution_count": null,
   "metadata": {},
   "outputs": [],
   "source": [
    "# Encontramos el valor absoluto de todas las correlaciones entre las variables\n",
    "Corr_Factors1 = abs(Corr_Factors)\n",
    "Corr_Factors1"
   ]
  },
  {
   "cell_type": "code",
   "execution_count": null,
   "metadata": {},
   "outputs": [],
   "source": [
    "# Graficamos el mapa de color de las coeficientes de correlacion\n",
    "Heat_Map = sns.heatmap(Corr_Factors1, cmap = 'Reds')"
   ]
  },
  {
   "cell_type": "markdown",
   "metadata": {},
   "source": [
    "“price vs instant_bookable” = “(dependiente, independiente)”"
   ]
  },
  {
   "cell_type": "code",
   "execution_count": null,
   "metadata": {},
   "outputs": [],
   "source": [
    "# Cargar archivo desde equipo\n",
    "Entire5 = pd.read_csv(\"room1_Entire.csv\")\n",
    "Entire5 = Entire5.drop(['Unnamed: 0'], axis=1)\n",
    "Entire5.head(1)"
   ]
  },
  {
   "cell_type": "code",
   "execution_count": null,
   "metadata": {},
   "outputs": [],
   "source": [
    "Entire5[\"instant_bookable\"] = Entire5[\"instant_bookable\"].replace({\"t\": 1, \"f\": 0})"
   ]
  },
  {
   "cell_type": "code",
   "execution_count": null,
   "metadata": {},
   "outputs": [],
   "source": [
    "# Imprimimos el scatter plot entre la variable (total) e independiente (alcohol)\n",
    "# para observar el coportamiento en su dispercion # el coeficiente de correlacion va a salir mas grande \n",
    "from turtle import color\n",
    "\n",
    "sns.scatterplot(x='instant_bookable', y='price', color=\"red\", data=Entire5)"
   ]
  },
  {
   "cell_type": "code",
   "execution_count": null,
   "metadata": {},
   "outputs": [],
   "source": [
    "# Declaramos las variables e independientes para la regresion lineal\n",
    "# vars_idep= df[['alcohol','speeding']]\n",
    "Vars_Indep =  Entire5[['instant_bookable']]\n",
    "Var_Dep = Entire5['price']"
   ]
  },
  {
   "cell_type": "code",
   "execution_count": null,
   "metadata": {},
   "outputs": [],
   "source": [
    "# Se define model como la regresion lineal\n",
    "from sklearn.linear_model import LinearRegression\n",
    "model = LinearRegression()\n",
    "\n",
    "# Verificamos la funcion relacionada al modelo\n",
    "type(model)\n",
    "\n",
    "# Ajsutamos el modelo con las variables antes declaradas X:matriz, y: vector\n",
    "model.fit(X=Vars_Indep, y=Var_Dep)\n",
    "\n",
    "# Verificamos los coeficientes obtenidos para el modelo ajustado coef-a , intercept-b\n",
    "model.__dict__"
   ]
  },
  {
   "cell_type": "markdown",
   "metadata": {},
   "source": [
    "Modelo matemático y = 71.48464608 + 1217.0755372065255"
   ]
  },
  {
   "cell_type": "code",
   "execution_count": null,
   "metadata": {},
   "outputs": [],
   "source": [
    "# Evaluamos la eficiencia del modelo obtenido por medio del coeficiente R Determinaci\n",
    "model.score(Vars_Indep,Var_Dep)"
   ]
  },
  {
   "cell_type": "code",
   "execution_count": null,
   "metadata": {},
   "outputs": [],
   "source": [
    "# Predecimos los valores\n",
    "y_pred= model.predict(X = Entire5[['instant_bookable']])\n",
    "y_pred"
   ]
  },
  {
   "cell_type": "code",
   "execution_count": null,
   "metadata": {},
   "outputs": [],
   "source": [
    "Entire5.insert(9,'Predicciones', y_pred)\n",
    "Entire5"
   ]
  },
  {
   "cell_type": "code",
   "execution_count": null,
   "metadata": {},
   "outputs": [],
   "source": [
    "# Visualizamos la grafica comparativa entre\n",
    "sns.scatterplot(x='instant_bookable', y='price', color=\"blue\", data=Entire5)\n",
    "sns.scatterplot(x='instant_bookable', y='Predicciones', color=\"red\", data=Entire5)"
   ]
  },
  {
   "cell_type": "code",
   "execution_count": null,
   "metadata": {},
   "outputs": [],
   "source": [
    "# Corroboramos cual es el coeficiente de Determinacion de nuestro modelo\n",
    "coef_Deter = model.score(X=Vars_Indep, y=Var_Dep)\n",
    "coef_Deter"
   ]
  },
  {
   "cell_type": "code",
   "execution_count": null,
   "metadata": {},
   "outputs": [],
   "source": [
    "# Corroboramos cual es el coeficiente de Correlacion de nuestro modelo\n",
    "coef_Correl = np.sqrt(coef_Deter)\n",
    "coef_Correl"
   ]
  },
  {
   "cell_type": "code",
   "execution_count": null,
   "metadata": {},
   "outputs": [],
   "source": [
    "Entire5.info()"
   ]
  },
  {
   "cell_type": "code",
   "execution_count": null,
   "metadata": {},
   "outputs": [],
   "source": [
    "Entire5 = Entire5.drop(Entire5.loc[:, 'last_scraped':'license'].columns, axis=1)"
   ]
  },
  {
   "cell_type": "code",
   "execution_count": null,
   "metadata": {},
   "outputs": [],
   "source": [
    "# Graficamos todas las disperciones entre todas las variables\n",
    "sns.pairplot(Entire5)"
   ]
  },
  {
   "cell_type": "code",
   "execution_count": null,
   "metadata": {},
   "outputs": [],
   "source": [
    "# Encontramos todas las correlaciones entre las variables\n",
    "Corr_Factors = Entire5.corr()\n",
    "Corr_Factors"
   ]
  },
  {
   "cell_type": "code",
   "execution_count": null,
   "metadata": {},
   "outputs": [],
   "source": [
    "# Encontramos el valor absoluto de todas las correlaciones entre las variables\n",
    "Corr_Factors1 = abs(Corr_Factors)\n",
    "Corr_Factors1"
   ]
  },
  {
   "cell_type": "code",
   "execution_count": null,
   "metadata": {},
   "outputs": [],
   "source": [
    "# Graficamos el mapa de color de las coeficientes de correlacion\n",
    "Heat_Map = sns.heatmap(Corr_Factors1, cmap = 'Reds')"
   ]
  },
  {
   "cell_type": "markdown",
   "metadata": {},
   "source": [
    "“Price vs property_type” = “(dependiente, independiente)”"
   ]
  },
  {
   "cell_type": "code",
   "execution_count": null,
   "metadata": {},
   "outputs": [],
   "source": [
    "# Cargar archivo desde equipo\n",
    "Entire6 = pd.read_csv(\"room1_Entire.csv\")\n",
    "Entire6 = Entire6.drop(['Unnamed: 0'], axis=1)\n",
    "Entire6.head(1)"
   ]
  },
  {
   "cell_type": "code",
   "execution_count": null,
   "metadata": {},
   "outputs": [],
   "source": [
    "Entire6[\"property_type\"] = Entire6[\"property_type\"].replace({\"Boat\": 1, \"Campsite\": 2, \"Casa particular\": 3, \"Castle\":4, \"Dome\":5, \"Earthen home\":6, \"Entire bungalow\":7, \"Entire cabin\":8, \"Entire chalet\":9, \"Entire condo\":10, \"Entire cottage\":11, \"Entire guest suite\":12, \"Entire guesthouse\":13, \"Entire home\": 14, \"Entire home/apt\":15, \"Entire hostel\":16, \"Entire in-law\":17, \"Entire loft\":18, \"Entire place\":19, \"Entire rental unit\":20, \"Entire serviced apartment\":21, \"Entire townhouse\":22, \"Entire vacation home\":23, \"Entire villa\":24, \"Farm stay\": 25, \"Holiday park\":26, \"Hut\":27, \"Room in aparthotel\":28, \"Room in hotel\":29, \"Shipping container\":30,\"Tent\":31, \"Tiny home\":32, \"Tower\":33})"
   ]
  },
  {
   "cell_type": "code",
   "execution_count": null,
   "metadata": {},
   "outputs": [],
   "source": [
    "from turtle import color\n",
    "\n",
    "sns.scatterplot(x='property_type', y='price', color=\"red\", data=Entire6)"
   ]
  },
  {
   "cell_type": "code",
   "execution_count": null,
   "metadata": {},
   "outputs": [],
   "source": [
    "# Declaramos las variables e independientes para la regresion lineal\n",
    "# vars_idep= df[['alcohol','speeding']]\n",
    "Vars_Indep =  Entire6[['property_type']]\n",
    "Var_Dep = Entire6['price']"
   ]
  },
  {
   "cell_type": "code",
   "execution_count": null,
   "metadata": {},
   "outputs": [],
   "source": [
    "# Se define model como la regresion lineal\n",
    "from sklearn.linear_model import LinearRegression\n",
    "model = LinearRegression()\n",
    "\n",
    "# Verificamos la funcion relacionada al modelo\n",
    "type(model)\n",
    "\n",
    "# Ajsutamos el modelo con las variables antes declaradas X:matriz, y: vector\n",
    "model.fit(X=Vars_Indep, y=Var_Dep)\n",
    "\n",
    "# Verificamos los coeficientes obtenidos para el modelo ajustado coef-a , intercept-b\n",
    "model.__dict__"
   ]
  },
  {
   "cell_type": "markdown",
   "metadata": {},
   "source": [
    "Modelo matemático y = -0.63456993 + 1258.2942989152546"
   ]
  },
  {
   "cell_type": "code",
   "execution_count": null,
   "metadata": {},
   "outputs": [],
   "source": [
    "# Evaluamos la eficiencia del modelo obtenido por medio del coeficiente R Determinaci\n",
    "model.score(Vars_Indep,Var_Dep)"
   ]
  },
  {
   "cell_type": "code",
   "execution_count": null,
   "metadata": {},
   "outputs": [],
   "source": [
    "# Predecimos los valores\n",
    "y_pred= model.predict(X = Entire6[['property_type']])\n",
    "y_pred"
   ]
  },
  {
   "cell_type": "code",
   "execution_count": null,
   "metadata": {},
   "outputs": [],
   "source": [
    "Entire6.insert(9,'Predicciones', y_pred)\n",
    "Entire6"
   ]
  },
  {
   "cell_type": "code",
   "execution_count": null,
   "metadata": {},
   "outputs": [],
   "source": [
    "# Visualizamos la grafica comparativa entre\n",
    "sns.scatterplot(x='property_type', y='price', color=\"blue\", data=Entire6)\n",
    "sns.scatterplot(x='property_type', y='Predicciones', color=\"red\", data=Entire6)"
   ]
  },
  {
   "cell_type": "code",
   "execution_count": null,
   "metadata": {},
   "outputs": [],
   "source": [
    "# Corroboramos cual es el coeficiente de Determinacion de nuestro modelo\n",
    "coef_Deter = model.score(X=Vars_Indep, y=Var_Dep)\n",
    "coef_Deter"
   ]
  },
  {
   "cell_type": "code",
   "execution_count": null,
   "metadata": {},
   "outputs": [],
   "source": [
    "# Corroboramos cual es el coeficiente de Correlacion de nuestro modelo\n",
    "coef_Correl = np.sqrt(coef_Deter)\n",
    "coef_Correl"
   ]
  },
  {
   "cell_type": "code",
   "execution_count": null,
   "metadata": {},
   "outputs": [],
   "source": [
    "Entire6.info()"
   ]
  },
  {
   "cell_type": "code",
   "execution_count": null,
   "metadata": {},
   "outputs": [],
   "source": [
    "Entire6 = Entire6.drop(Entire6.loc[:, 'last_scraped':'neighbourhood'].columns, axis=1)\n",
    "Entire6 = Entire6.drop(Entire6.loc[:, 'room_type':'instant_bookable'].columns, axis=1)"
   ]
  },
  {
   "cell_type": "code",
   "execution_count": null,
   "metadata": {},
   "outputs": [],
   "source": [
    "# Graficamos todas las disperciones entre todas las variables\n",
    "sns.pairplot(Entire6)"
   ]
  },
  {
   "cell_type": "code",
   "execution_count": null,
   "metadata": {},
   "outputs": [],
   "source": [
    "# Encontramos todas las correlaciones entre las variables\n",
    "Corr_Factors = Entire6.corr()\n",
    "Corr_Factors"
   ]
  },
  {
   "cell_type": "code",
   "execution_count": null,
   "metadata": {},
   "outputs": [],
   "source": [
    "# Encontramos el valor absoluto de todas las correlaciones entre las variables\n",
    "Corr_Factors1 = abs(Corr_Factors)\n",
    "Corr_Factors1"
   ]
  },
  {
   "cell_type": "code",
   "execution_count": null,
   "metadata": {},
   "outputs": [],
   "source": [
    "# Graficamos el mapa de color de las coeficientes de correlacion\n",
    "Heat_Map = sns.heatmap(Corr_Factors1, cmap = 'Reds')"
   ]
  },
  {
   "cell_type": "markdown",
   "metadata": {},
   "source": [
    "2) Private"
   ]
  },
  {
   "cell_type": "markdown",
   "metadata": {},
   "source": [
    "“price vs host_acceptance rate” = “(dependiente, independiente)”"
   ]
  },
  {
   "cell_type": "code",
   "execution_count": null,
   "metadata": {},
   "outputs": [],
   "source": [
    "# Cargar archivo desde equipo\n",
    "Private = pd.read_csv(\"room2_Private.csv\")\n",
    "Private = Private.drop(['Unnamed: 0'], axis=1)\n",
    "Private.head(1)"
   ]
  },
  {
   "cell_type": "code",
   "execution_count": null,
   "metadata": {},
   "outputs": [],
   "source": [
    "# Imprimimos el scatter plot entre la variable (total) e independiente (alcohol)\n",
    "# para observar el coportamiento en su dispercion # el coeficiente de correlacion va a salir mas grande \n",
    "from turtle import color\n",
    "\n",
    "sns.scatterplot(x='host_acceptance_rate', y='price', color=\"red\", data=Private)"
   ]
  },
  {
   "cell_type": "code",
   "execution_count": null,
   "metadata": {},
   "outputs": [],
   "source": [
    "# Declaramos las variables e independientes para la regresion lineal\n",
    "# vars_idep= df[['alcohol','speeding']]\n",
    "Vars_Indep =  Private[['host_acceptance_rate']]\n",
    "Var_Dep = Private['price']"
   ]
  },
  {
   "cell_type": "code",
   "execution_count": null,
   "metadata": {},
   "outputs": [],
   "source": [
    "# Se define model como la regresion lineal\n",
    "from sklearn.linear_model import LinearRegression\n",
    "model = LinearRegression()\n",
    "\n",
    "# Verificamos la funcion relacionada al modelo\n",
    "type(model)"
   ]
  },
  {
   "cell_type": "code",
   "execution_count": null,
   "metadata": {},
   "outputs": [],
   "source": [
    "# Ajsutamos el modelo con las variables antes declaradas X:matriz, y: vector\n",
    "model.fit(X=Vars_Indep, y=Var_Dep)"
   ]
  },
  {
   "cell_type": "code",
   "execution_count": null,
   "metadata": {},
   "outputs": [],
   "source": [
    "# Verificamos los coeficientes obtenidos para el modelo ajustado coef-a , intercept-b\n",
    "model.__dict__"
   ]
  },
  {
   "cell_type": "markdown",
   "metadata": {},
   "source": [
    "Modelo matematico y = 2790.04688642 + -1960.7722206700353"
   ]
  },
  {
   "cell_type": "code",
   "execution_count": null,
   "metadata": {},
   "outputs": [],
   "source": [
    "# Evaluamos la eficiencia del modelo obtenido por medio del coeficiente R Determinaci\n",
    "model.score(Vars_Indep,Var_Dep)"
   ]
  },
  {
   "cell_type": "code",
   "execution_count": null,
   "metadata": {},
   "outputs": [],
   "source": [
    "# Predecimos los valores de precio a partir de la var host (nos da las predicciones, numero igual de filas)\n",
    "# y_pred= model.predict(X=df[['alcohol','speeding']])\n",
    "y_pred= model.predict(X = Private[['host_acceptance_rate']])\n",
    "y_pred"
   ]
  },
  {
   "cell_type": "code",
   "execution_count": null,
   "metadata": {},
   "outputs": [],
   "source": [
    "Private.insert(9,'Predicciones', y_pred)\n",
    "Private"
   ]
  },
  {
   "cell_type": "code",
   "execution_count": null,
   "metadata": {},
   "outputs": [],
   "source": [
    "# Visualizamos la grafica comparativa entre el host_acceptance_rate real y el total predecido\n",
    "sns.scatterplot(x='host_acceptance_rate', y='price', color=\"blue\", data=Private)\n",
    "sns.scatterplot(x='host_acceptance_rate', y='Predicciones', color=\"red\", data=Private)"
   ]
  },
  {
   "cell_type": "code",
   "execution_count": null,
   "metadata": {},
   "outputs": [],
   "source": [
    "# Corroboramos cual es el coeficiente de Determinacion de nuestro modelo\n",
    "coef_Deter = model.score(X=Vars_Indep, y=Var_Dep)\n",
    "coef_Deter"
   ]
  },
  {
   "cell_type": "code",
   "execution_count": null,
   "metadata": {},
   "outputs": [],
   "source": [
    "# Corroboramos cual es el coeficiente de Correlacion de nuestro modelo\n",
    "coef_Correl = np.sqrt(coef_Deter)\n",
    "coef_Correl"
   ]
  },
  {
   "cell_type": "code",
   "execution_count": null,
   "metadata": {},
   "outputs": [],
   "source": [
    "Private = Private.drop(Private.columns[27:51], axis=1)"
   ]
  },
  {
   "cell_type": "code",
   "execution_count": null,
   "metadata": {},
   "outputs": [],
   "source": [
    "# Graficamos todas las disperciones entre todas las variables\n",
    "sns.pairplot(Private)"
   ]
  },
  {
   "cell_type": "code",
   "execution_count": null,
   "metadata": {},
   "outputs": [],
   "source": [
    "# Encontramos todas las correlaciones entre las variables\n",
    "Corr_Factors = Private.corr()\n",
    "Corr_Factors"
   ]
  },
  {
   "cell_type": "code",
   "execution_count": null,
   "metadata": {},
   "outputs": [],
   "source": [
    "# Encontramos el valor absoluto de todas las correlaciones entre las variables\n",
    "Corr_Factors1 = abs(Corr_Factors)\n",
    "Corr_Factors1"
   ]
  },
  {
   "cell_type": "code",
   "execution_count": null,
   "metadata": {},
   "outputs": [],
   "source": [
    "# Graficamos el mapa de color de las coeficientes de correlacion\n",
    "Heat_Map = sns.heatmap(Corr_Factors1, cmap = 'Reds')"
   ]
  },
  {
   "cell_type": "markdown",
   "metadata": {},
   "source": [
    "“price vs host_is_superhost” = “(dependiente, independiente)”"
   ]
  },
  {
   "cell_type": "code",
   "execution_count": null,
   "metadata": {},
   "outputs": [],
   "source": [
    "# Cargar archivo desde equipo\n",
    "Private1 = pd.read_csv(\"room2_Private.csv\")\n",
    "Private1 = Private1.drop(['Unnamed: 0'], axis=1)\n",
    "Private1.head(1)"
   ]
  },
  {
   "cell_type": "code",
   "execution_count": null,
   "metadata": {},
   "outputs": [],
   "source": [
    "Private1[\"host_is_superhost\"] = Private1[\"host_is_superhost\"].replace({\"t\": 1, \"f\": 0})\n",
    "Private1[\"host_is_superhost\"] = Private1[\"host_is_superhost\"].replace({\"SIN INFORMACION\": 0})"
   ]
  },
  {
   "cell_type": "code",
   "execution_count": null,
   "metadata": {},
   "outputs": [],
   "source": [
    "from turtle import color\n",
    "\n",
    "sns.scatterplot(x='host_is_superhost', y='price', color=\"red\", data=Private1)"
   ]
  },
  {
   "cell_type": "code",
   "execution_count": null,
   "metadata": {},
   "outputs": [],
   "source": [
    "# Declaramos las variables e independientes para la regresion lineal\n",
    "# vars_idep= df[['alcohol','speeding']]\n",
    "Vars_Indep =  Private1[['host_is_superhost']]\n",
    "Var_Dep = Private1['price']"
   ]
  },
  {
   "cell_type": "code",
   "execution_count": null,
   "metadata": {},
   "outputs": [],
   "source": [
    "# Se define model como la regresion lineal\n",
    "from sklearn.linear_model import LinearRegression\n",
    "model = LinearRegression()\n",
    "\n",
    "# Verificamos la funcion relacionada al modelo\n",
    "type(model)\n",
    "\n",
    "# Ajsutamos el modelo con las variables antes declaradas X:matriz, y: vector\n",
    "model.fit(X=Vars_Indep, y=Var_Dep)\n",
    "\n",
    "# Verificamos los coeficientes obtenidos para el modelo ajustado coef-a , intercept-b\n",
    "model.__dict__"
   ]
  },
  {
   "cell_type": "code",
   "execution_count": null,
   "metadata": {},
   "outputs": [],
   "source": [
    "# Evaluamos la eficiencia del modelo obtenido por medio del coeficiente R Determinaci\n",
    "model.score(Vars_Indep,Var_Dep)"
   ]
  },
  {
   "cell_type": "code",
   "execution_count": null,
   "metadata": {},
   "outputs": [],
   "source": [
    "# Predecimos los valores\n",
    "y_pred= model.predict(X = Private1[['host_is_superhost']])\n",
    "y_pred"
   ]
  },
  {
   "cell_type": "code",
   "execution_count": null,
   "metadata": {},
   "outputs": [],
   "source": [
    "Private1.insert(10,'Predicciones', y_pred)\n",
    "Private1"
   ]
  },
  {
   "cell_type": "code",
   "execution_count": null,
   "metadata": {},
   "outputs": [],
   "source": [
    "# Visualizamos la grafica comparativa entre\n",
    "sns.scatterplot(x='host_is_superhost', y='price', color=\"blue\", data=Private1)\n",
    "sns.scatterplot(x='host_is_superhost', y='Predicciones', color=\"red\", data=Private1)"
   ]
  },
  {
   "cell_type": "code",
   "execution_count": null,
   "metadata": {},
   "outputs": [],
   "source": [
    "# Corroboramos cual es el coeficiente de Determinacion de nuestro modelo\n",
    "coef_Deter = model.score(X=Vars_Indep, y=Var_Dep)\n",
    "coef_Deter"
   ]
  },
  {
   "cell_type": "code",
   "execution_count": null,
   "metadata": {},
   "outputs": [],
   "source": [
    "# Corroboramos cual es el coeficiente de Correlacion de nuestro modelo\n",
    "coef_Correl = np.sqrt(coef_Deter)\n",
    "coef_Correl"
   ]
  },
  {
   "cell_type": "code",
   "execution_count": null,
   "metadata": {},
   "outputs": [],
   "source": [
    "Private1 = Private1.drop(Private1.loc[:, 'last_scraped':'host_response_time'].columns, axis=1)\n",
    "Private1 = Private1.drop(Private1.loc[:, 'host_verifications':'instant_bookable'].columns, axis=1)"
   ]
  },
  {
   "cell_type": "code",
   "execution_count": null,
   "metadata": {},
   "outputs": [],
   "source": [
    "Private1.info()"
   ]
  },
  {
   "cell_type": "code",
   "execution_count": null,
   "metadata": {},
   "outputs": [],
   "source": [
    "# Graficamos todas las disperciones entre todas las variables\n",
    "sns.pairplot(Private1)"
   ]
  },
  {
   "cell_type": "code",
   "execution_count": null,
   "metadata": {},
   "outputs": [],
   "source": [
    "# Encontramos todas las correlaciones entre las variables\n",
    "Corr_Factors = Private1.corr()\n",
    "Corr_Factors"
   ]
  },
  {
   "cell_type": "code",
   "execution_count": null,
   "metadata": {},
   "outputs": [],
   "source": [
    "# Encontramos el valor absoluto de todas las correlaciones entre las variables\n",
    "Corr_Factors1 = abs(Corr_Factors)\n",
    "Corr_Factors1"
   ]
  },
  {
   "cell_type": "code",
   "execution_count": null,
   "metadata": {},
   "outputs": [],
   "source": [
    "# Graficamos el mapa de color de las coeficientes de correlacion\n",
    "Heat_Map = sns.heatmap(Corr_Factors1, cmap = 'Reds')"
   ]
  },
  {
   "cell_type": "markdown",
   "metadata": {},
   "source": [
    "“accommodates vs bathrooms” = = “(dependiente, independiente)”"
   ]
  },
  {
   "cell_type": "code",
   "execution_count": null,
   "metadata": {},
   "outputs": [],
   "source": [
    "# Cargar archivo desde equipo\n",
    "Private2 = pd.read_csv(\"room2_Private.csv\")\n",
    "Private2 = Private2.drop(['Unnamed: 0'], axis=1)\n",
    "Private2.head(1)"
   ]
  },
  {
   "cell_type": "code",
   "execution_count": null,
   "metadata": {},
   "outputs": [],
   "source": [
    "from turtle import color\n",
    "\n",
    "sns.scatterplot(x='bathrooms', y='accommodates', color=\"red\", data=Private2)"
   ]
  },
  {
   "cell_type": "code",
   "execution_count": null,
   "metadata": {},
   "outputs": [],
   "source": [
    "# Declaramos las variables e independientes para la regresion lineal\n",
    "# vars_idep= df[['alcohol','speeding']]\n",
    "Vars_Indep =  Private2[['bathrooms']]\n",
    "Var_Dep = Private2['accommodates']"
   ]
  },
  {
   "cell_type": "code",
   "execution_count": null,
   "metadata": {},
   "outputs": [],
   "source": [
    "# Se define model como la regresion lineal\n",
    "from sklearn.linear_model import LinearRegression\n",
    "model = LinearRegression()\n",
    "\n",
    "# Verificamos la funcion relacionada al modelo\n",
    "type(model)\n",
    "\n",
    "# Ajsutamos el modelo con las variables antes declaradas X:matriz, y: vector\n",
    "model.fit(X=Vars_Indep, y=Var_Dep)\n",
    "\n",
    "# Verificamos los coeficientes obtenidos para el modelo ajustado coef-a , intercept-b\n",
    "model.__dict__"
   ]
  },
  {
   "cell_type": "markdown",
   "metadata": {},
   "source": [
    "Modelo matemático y = 0.04860103 + 845.7206950778423"
   ]
  },
  {
   "cell_type": "code",
   "execution_count": null,
   "metadata": {},
   "outputs": [],
   "source": [
    "# Evaluamos la eficiencia del modelo obtenido por medio del coeficiente R Determinaci\n",
    "model.score(Vars_Indep,Var_Dep)"
   ]
  },
  {
   "cell_type": "code",
   "execution_count": null,
   "metadata": {},
   "outputs": [],
   "source": [
    "# Predecimos los valores\n",
    "y_pred= model.predict(X = Private2[['bathrooms']])\n",
    "y_pred"
   ]
  },
  {
   "cell_type": "code",
   "execution_count": null,
   "metadata": {},
   "outputs": [],
   "source": [
    "Private2.insert(5,'Predicciones', y_pred)\n",
    "Private2"
   ]
  },
  {
   "cell_type": "code",
   "execution_count": null,
   "metadata": {},
   "outputs": [],
   "source": [
    "# Visualizamos la grafica comparativa entre\n",
    "sns.scatterplot(x='bathrooms', y='accommodates', color=\"blue\", data=Private2)\n",
    "sns.scatterplot(x='bathrooms', y='Predicciones', color=\"red\", data=Private2)"
   ]
  },
  {
   "cell_type": "code",
   "execution_count": null,
   "metadata": {},
   "outputs": [],
   "source": [
    "# Corroboramos cual es el coeficiente de Determinacion de nuestro modelo\n",
    "coef_Deter = model.score(X=Vars_Indep, y=Var_Dep)\n",
    "coef_Deter"
   ]
  },
  {
   "cell_type": "code",
   "execution_count": null,
   "metadata": {},
   "outputs": [],
   "source": [
    "# Corroboramos cual es el coeficiente de Correlacion de nuestro modelo\n",
    "coef_Correl = np.sqrt(coef_Deter)\n",
    "coef_Correl"
   ]
  },
  {
   "cell_type": "code",
   "execution_count": null,
   "metadata": {},
   "outputs": [],
   "source": [
    "Private2 = Private2.drop(Private2.columns[27:51], axis=1)"
   ]
  },
  {
   "cell_type": "code",
   "execution_count": null,
   "metadata": {},
   "outputs": [],
   "source": [
    "# Graficamos todas las disperciones entre todas las variables\n",
    "sns.pairplot(Private2)"
   ]
  },
  {
   "cell_type": "code",
   "execution_count": null,
   "metadata": {},
   "outputs": [],
   "source": [
    "# Encontramos todas las correlaciones entre las variables\n",
    "Corr_Factors = Private2.corr()\n",
    "# Corr_Factors\n",
    "\n",
    "# Encontramos el valor absoluto de todas las correlaciones entre las variables\n",
    "Corr_Factors1 = abs(Corr_Factors)\n",
    "# Corr_Factors1"
   ]
  },
  {
   "cell_type": "code",
   "execution_count": null,
   "metadata": {},
   "outputs": [],
   "source": [
    "# Graficamos el mapa de color de las coeficientes de correlacion\n",
    "Heat_Map = sns.heatmap(Corr_Factors1, cmap = 'Reds')"
   ]
  },
  {
   "cell_type": "markdown",
   "metadata": {},
   "source": [
    "“price vs review_scores_cleanliness” = “(dependiente, independiente)”"
   ]
  },
  {
   "cell_type": "code",
   "execution_count": null,
   "metadata": {},
   "outputs": [],
   "source": [
    "# Cargar archivo desde equipo\n",
    "Private3 = pd.read_csv(\"room2_Private.csv\")\n",
    "Private3 = Private3.drop(['Unnamed: 0'], axis=1)\n",
    "Private3.head(1)"
   ]
  },
  {
   "cell_type": "code",
   "execution_count": null,
   "metadata": {},
   "outputs": [],
   "source": [
    "from turtle import color\n",
    "\n",
    "sns.scatterplot(x='review_scores_cleanliness', y='price', color=\"red\", data=Private3)"
   ]
  },
  {
   "cell_type": "code",
   "execution_count": null,
   "metadata": {},
   "outputs": [],
   "source": [
    "# Declaramos las variables e independientes para la regresion lineal\n",
    "# vars_idep= df[['alcohol','speeding']]\n",
    "Vars_Indep =  Private3[['review_scores_cleanliness']]\n",
    "Var_Dep = Private3['price']"
   ]
  },
  {
   "cell_type": "code",
   "execution_count": null,
   "metadata": {},
   "outputs": [],
   "source": [
    "# Se define model como la regresion lineal\n",
    "from sklearn.linear_model import LinearRegression\n",
    "model = LinearRegression()\n",
    "\n",
    "# Verificamos la funcion relacionada al modelo\n",
    "type(model)\n",
    "\n",
    "# Ajsutamos el modelo con las variables antes declaradas X:matriz, y: vector\n",
    "model.fit(X=Vars_Indep, y=Var_Dep)\n",
    "\n",
    "# Verificamos los coeficientes obtenidos para el modelo ajustado coef-a , intercept-b\n",
    "model.__dict__"
   ]
  },
  {
   "cell_type": "markdown",
   "metadata": {},
   "source": [
    "Modelo matemático y = 403.65294027 + -1138.0088176703127"
   ]
  },
  {
   "cell_type": "code",
   "execution_count": null,
   "metadata": {},
   "outputs": [],
   "source": [
    "# Evaluamos la eficiencia del modelo obtenido por medio del coeficiente R Determinaci\n",
    "model.score(Vars_Indep,Var_Dep)"
   ]
  },
  {
   "cell_type": "code",
   "execution_count": null,
   "metadata": {},
   "outputs": [],
   "source": [
    "# Predecimos los valores\n",
    "y_pred= model.predict(X = Private3[['review_scores_cleanliness']])\n",
    "y_pred"
   ]
  },
  {
   "cell_type": "code",
   "execution_count": null,
   "metadata": {},
   "outputs": [],
   "source": [
    "Private3.insert(9,'Predicciones', y_pred)\n",
    "Private3"
   ]
  },
  {
   "cell_type": "code",
   "execution_count": null,
   "metadata": {},
   "outputs": [],
   "source": [
    "# Visualizamos la grafica comparativa entre\n",
    "sns.scatterplot(x='review_scores_cleanliness', y='price', color=\"blue\", data=Private3)\n",
    "sns.scatterplot(x='review_scores_cleanliness', y='Predicciones', color=\"red\", data=Private3)"
   ]
  },
  {
   "cell_type": "code",
   "execution_count": null,
   "metadata": {},
   "outputs": [],
   "source": [
    "# Corroboramos cual es el coeficiente de Determinacion de nuestro modelo\n",
    "coef_Deter = model.score(X=Vars_Indep, y=Var_Dep)\n",
    "coef_Deter"
   ]
  },
  {
   "cell_type": "code",
   "execution_count": null,
   "metadata": {},
   "outputs": [],
   "source": [
    "# Corroboramos cual es el coeficiente de Correlacion de nuestro modelo\n",
    "coef_Correl = np.sqrt(coef_Deter)\n",
    "coef_Correl"
   ]
  },
  {
   "cell_type": "code",
   "execution_count": null,
   "metadata": {},
   "outputs": [],
   "source": [
    "Private3 = Private3.drop(Private3.columns[27:51], axis=1)"
   ]
  },
  {
   "cell_type": "code",
   "execution_count": null,
   "metadata": {},
   "outputs": [],
   "source": [
    "# Graficamos todas las disperciones entre todas las variables\n",
    "sns.pairplot(Private3)"
   ]
  },
  {
   "cell_type": "code",
   "execution_count": null,
   "metadata": {},
   "outputs": [],
   "source": [
    "# Encontramos todas las correlaciones entre las variables\n",
    "Corr_Factors = Private3.corr()\n",
    "Corr_Factors"
   ]
  },
  {
   "cell_type": "code",
   "execution_count": null,
   "metadata": {},
   "outputs": [],
   "source": [
    "# Encontramos el valor absoluto de todas las correlaciones entre las variables\n",
    "Corr_Factors1 = abs(Corr_Factors)\n",
    "Corr_Factors1"
   ]
  },
  {
   "cell_type": "code",
   "execution_count": null,
   "metadata": {},
   "outputs": [],
   "source": [
    "# Graficamos el mapa de color de las coeficientes de correlacion\n",
    "Heat_Map = sns.heatmap(Corr_Factors1, cmap = 'Reds')"
   ]
  },
  {
   "cell_type": "markdown",
   "metadata": {},
   "source": [
    "“price vs host_identity_verified” = “(dependiente, independiente)”"
   ]
  },
  {
   "cell_type": "code",
   "execution_count": null,
   "metadata": {},
   "outputs": [],
   "source": [
    "# Cargar archivo desde equipo\n",
    "Private4 = pd.read_csv(\"room2_Private.csv\")\n",
    "Private4 = Private4.drop(['Unnamed: 0'], axis=1)\n",
    "Private4.head(1)"
   ]
  },
  {
   "cell_type": "code",
   "execution_count": null,
   "metadata": {},
   "outputs": [],
   "source": [
    "Private4[\"host_identity_verified\"] = Private4[\"host_identity_verified\"].replace({\"t\": 1, \"f\": 0})"
   ]
  },
  {
   "cell_type": "code",
   "execution_count": null,
   "metadata": {},
   "outputs": [],
   "source": [
    "from turtle import color\n",
    "\n",
    "sns.scatterplot(x='host_identity_verified', y='price', color=\"red\", data=Private4)"
   ]
  },
  {
   "cell_type": "code",
   "execution_count": null,
   "metadata": {},
   "outputs": [],
   "source": [
    "# Declaramos las variables e independientes para la regresion lineal\n",
    "# vars_idep= df[['alcohol','speeding']]\n",
    "Vars_Indep =  Private4[['host_identity_verified']]\n",
    "Var_Dep = Private4['price']"
   ]
  },
  {
   "cell_type": "code",
   "execution_count": null,
   "metadata": {},
   "outputs": [],
   "source": [
    "# Se define model como la regresion lineal\n",
    "from sklearn.linear_model import LinearRegression\n",
    "model = LinearRegression()\n",
    "\n",
    "# Verificamos la funcion relacionada al modelo\n",
    "type(model)\n",
    "\n",
    "# Ajsutamos el modelo con las variables antes declaradas X:matriz, y: vector\n",
    "model.fit(X=Vars_Indep, y=Var_Dep)\n",
    "\n",
    "# Verificamos los coeficientes obtenidos para el modelo ajustado coef-a , intercept-b\n",
    "model.__dict__"
   ]
  },
  {
   "cell_type": "markdown",
   "metadata": {},
   "source": [
    "Modeo matematico y = -635.75587412 + 1402.6841503268051"
   ]
  },
  {
   "cell_type": "code",
   "execution_count": null,
   "metadata": {},
   "outputs": [],
   "source": [
    "# Evaluamos la eficiencia del modelo obtenido por medio del coeficiente R Determinaci\n",
    "model.score(Vars_Indep,Var_Dep)"
   ]
  },
  {
   "cell_type": "code",
   "execution_count": null,
   "metadata": {},
   "outputs": [],
   "source": [
    "# Predecimos los valores\n",
    "y_pred= model.predict(X = Private4[['host_identity_verified']])\n",
    "y_pred"
   ]
  },
  {
   "cell_type": "code",
   "execution_count": null,
   "metadata": {},
   "outputs": [],
   "source": [
    "Private4.insert(9,'Predicciones', y_pred)\n",
    "Private4"
   ]
  },
  {
   "cell_type": "code",
   "execution_count": null,
   "metadata": {},
   "outputs": [],
   "source": [
    "# Visualizamos la grafica comparativa entre\n",
    "sns.scatterplot(x='host_identity_verified', y='price', color=\"blue\", data=Private4)\n",
    "sns.scatterplot(x='host_identity_verified', y='Predicciones', color=\"red\", data=Private4)"
   ]
  },
  {
   "cell_type": "code",
   "execution_count": null,
   "metadata": {},
   "outputs": [],
   "source": [
    "# Corroboramos cual es el coeficiente de Determinacion de nuestro modelo\n",
    "coef_Deter = model.score(X=Vars_Indep, y=Var_Dep)\n",
    "coef_Deter"
   ]
  },
  {
   "cell_type": "code",
   "execution_count": null,
   "metadata": {},
   "outputs": [],
   "source": [
    "# Corroboramos cual es el coeficiente de Correlacion de nuestro modelo\n",
    "coef_Correl = np.sqrt(coef_Deter)\n",
    "coef_Correl"
   ]
  },
  {
   "cell_type": "code",
   "execution_count": null,
   "metadata": {},
   "outputs": [],
   "source": [
    "Private4 = Private4.drop(Private4.loc[:, 'last_scraped':'host_has_profile_pic'].columns, axis=1)\n",
    "Private4 = Private4.drop(Private4.loc[:, 'neighbourhood':'instant_bookable'].columns, axis=1)\n",
    "# Private4.info()"
   ]
  },
  {
   "cell_type": "code",
   "execution_count": null,
   "metadata": {},
   "outputs": [],
   "source": [
    "# Graficamos todas las disperciones entre todas las variables\n",
    "sns.pairplot(Private4)"
   ]
  },
  {
   "cell_type": "code",
   "execution_count": null,
   "metadata": {},
   "outputs": [],
   "source": [
    "# Encontramos todas las correlaciones entre las variables\n",
    "Corr_Factors = Private4.corr()\n",
    "# Corr_Factors\n",
    "\n",
    "# Encontramos el valor absoluto de todas las correlaciones entre las variables\n",
    "Corr_Factors1 = abs(Corr_Factors)\n",
    "# Corr_Factors1"
   ]
  },
  {
   "cell_type": "code",
   "execution_count": null,
   "metadata": {},
   "outputs": [],
   "source": [
    "# Graficamos el mapa de color de las coeficientes de correlacion\n",
    "Heat_Map = sns.heatmap(Corr_Factors1, cmap = 'Reds')"
   ]
  },
  {
   "cell_type": "markdown",
   "metadata": {},
   "source": [
    "“price vs instant_bookable” = “(dependiente, independiente)”"
   ]
  },
  {
   "cell_type": "code",
   "execution_count": null,
   "metadata": {},
   "outputs": [],
   "source": [
    "# Cargar archivo desde equipo\n",
    "Private5 = pd.read_csv(\"room2_Private.csv\")\n",
    "Private5 = Private5.drop(['Unnamed: 0'], axis=1)\n",
    "Private5.head(1)"
   ]
  },
  {
   "cell_type": "code",
   "execution_count": null,
   "metadata": {},
   "outputs": [],
   "source": [
    "Private5[\"instant_bookable\"] = Private5[\"instant_bookable\"].replace({\"t\": 1, \"f\": 0})"
   ]
  },
  {
   "cell_type": "code",
   "execution_count": null,
   "metadata": {},
   "outputs": [],
   "source": [
    "# Imprimimos el scatter plot entre la variable (total) e independiente (alcohol)\n",
    "# para observar el coportamiento en su dispercion # el coeficiente de correlacion va a salir mas grande \n",
    "from turtle import color\n",
    "\n",
    "sns.scatterplot(x='instant_bookable', y='price', color=\"red\", data=Private5)"
   ]
  },
  {
   "cell_type": "code",
   "execution_count": null,
   "metadata": {},
   "outputs": [],
   "source": [
    "# Declaramos las variables e independientes para la regresion lineal\n",
    "# vars_idep= df[['alcohol','speeding']]\n",
    "Vars_Indep =  Private5[['instant_bookable']]\n",
    "Var_Dep = Private5['price']"
   ]
  },
  {
   "cell_type": "code",
   "execution_count": null,
   "metadata": {},
   "outputs": [],
   "source": [
    "# Se define model como la regresion lineal\n",
    "from sklearn.linear_model import LinearRegression\n",
    "model = LinearRegression()\n",
    "\n",
    "# Verificamos la funcion relacionada al modelo\n",
    "type(model)\n",
    "\n",
    "# Ajsutamos el modelo con las variables antes declaradas X:matriz, y: vector\n",
    "model.fit(X=Vars_Indep, y=Var_Dep)\n",
    "\n",
    "# Verificamos los coeficientes obtenidos para el modelo ajustado coef-a , intercept-b\n",
    "model.__dict__"
   ]
  },
  {
   "cell_type": "markdown",
   "metadata": {},
   "source": [
    "Modelo matematico y = 66.70173871 + 789.6264352011002"
   ]
  },
  {
   "cell_type": "code",
   "execution_count": null,
   "metadata": {},
   "outputs": [],
   "source": [
    "# Evaluamos la eficiencia del modelo obtenido por medio del coeficiente R Determinaci\n",
    "model.score(Vars_Indep,Var_Dep)"
   ]
  },
  {
   "cell_type": "code",
   "execution_count": null,
   "metadata": {},
   "outputs": [],
   "source": [
    "# Predecimos los valores\n",
    "y_pred= model.predict(X = Private5[['instant_bookable']])\n",
    "y_pred"
   ]
  },
  {
   "cell_type": "code",
   "execution_count": null,
   "metadata": {},
   "outputs": [],
   "source": [
    "Private5.insert(9,'Predicciones', y_pred)\n",
    "# Private5"
   ]
  },
  {
   "cell_type": "code",
   "execution_count": null,
   "metadata": {},
   "outputs": [],
   "source": [
    "# Visualizamos la grafica comparativa entre\n",
    "sns.scatterplot(x='instant_bookable', y='price', color=\"blue\", data=Private5)\n",
    "sns.scatterplot(x='instant_bookable', y='Predicciones', color=\"red\", data=Private5)"
   ]
  },
  {
   "cell_type": "code",
   "execution_count": null,
   "metadata": {},
   "outputs": [],
   "source": [
    "# Corroboramos cual es el coeficiente de Determinacion de nuestro modelo\n",
    "coef_Deter = model.score(X=Vars_Indep, y=Var_Dep)\n",
    "coef_Deter"
   ]
  },
  {
   "cell_type": "code",
   "execution_count": null,
   "metadata": {},
   "outputs": [],
   "source": [
    "# Corroboramos cual es el coeficiente de Correlacion de nuestro modelo\n",
    "coef_Correl = np.sqrt(coef_Deter)\n",
    "coef_Correl"
   ]
  },
  {
   "cell_type": "code",
   "execution_count": null,
   "metadata": {},
   "outputs": [],
   "source": [
    "Private5 = Private5.drop(Private5.loc[:, 'last_scraped':'license'].columns, axis=1)"
   ]
  },
  {
   "cell_type": "code",
   "execution_count": null,
   "metadata": {},
   "outputs": [],
   "source": [
    "# Graficamos todas las disperciones entre todas las variables\n",
    "sns.pairplot(Private5)"
   ]
  },
  {
   "cell_type": "code",
   "execution_count": null,
   "metadata": {},
   "outputs": [],
   "source": [
    "# Encontramos todas las correlaciones entre las variables\n",
    "Corr_Factors = Private5.corr()\n",
    "# Corr_Factors\n",
    "\n",
    "# Encontramos el valor absoluto de todas las correlaciones entre las variables\n",
    "Corr_Factors1 = abs(Corr_Factors)\n",
    "# Corr_Factors1"
   ]
  },
  {
   "cell_type": "code",
   "execution_count": null,
   "metadata": {},
   "outputs": [],
   "source": [
    "# Graficamos el mapa de color de las coeficientes de correlacion\n",
    "Heat_Map = sns.heatmap(Corr_Factors1, cmap = 'Reds')"
   ]
  },
  {
   "cell_type": "markdown",
   "metadata": {},
   "source": [
    "“Price vs property_type” = “(dependiente, independiente)”"
   ]
  },
  {
   "cell_type": "code",
   "execution_count": null,
   "metadata": {},
   "outputs": [],
   "source": [
    "# Cargar archivo desde equipo\n",
    "Private6 = pd.read_csv(\"room2_Private.csv\")\n",
    "Private6 = Private6.drop(['Unnamed: 0'], axis=1)\n",
    "Private6.head(1)"
   ]
  },
  {
   "cell_type": "code",
   "execution_count": null,
   "metadata": {},
   "outputs": [],
   "source": [
    "Private6[\"property_type\"] = Private6[\"property_type\"].replace({\n",
    "    \"Private room\": 1,\n",
    "    \"Private room in rental unit\": 2,\n",
    "    \"Private room in home\": 3,\n",
    "    \"Private room in condo\": 4,\n",
    "    \"Private room in guest suite\": 5,\n",
    "    \"Private room in serviced apartment\": 6,\n",
    "    \"Private room in townhouse\": 7,\n",
    "    \"Private room in bed and breakfast\": 8,\n",
    "    \"Room in boutique hotel\": 9,\n",
    "    \"Private room in guesthouse\": 10,\n",
    "    \"Private room in loft\": 11,\n",
    "    \"Private room in tiny home\": 12,\n",
    "    \"Private room in farm stay\": 13,\n",
    "    \"Private room in villa\": 14,\n",
    "    \"Private room in casa particular\": 15,\n",
    "    \"Room in hotel\": 16,\n",
    "    \"Private room in floor\": 17,\n",
    "    \"Private room in cabin\": 18,\n",
    "    \"Room in aparthotel\": 19,\n",
    "    \"Private room in hostel\": 20,\n",
    "    \"Private room in earthen home\": 21,\n",
    "    \"Private room in dorm\": 22,\n",
    "    \"Private room in hut\": 23,\n",
    "    \"Private room in dome\": 24,\n",
    "    \"Private room in vacation home\": 25,\n",
    "    \"Private room in barn\": 26,\n",
    "    \"Private room in cottage\": 27,\n",
    "    \"Private room in shipping container\": 28,\n",
    "    \"Private room in nature lodge\": 29,\n",
    "    \"Private room in tower\": 30,\n",
    "    \"Private room in lighthouse\": 31,\n",
    "    \"Private room in pension\": 32,\n",
    "    \"Private room in bungalow\": 33,\n",
    "    \"Private room in chalet\": 34,\n",
    "    \"Private room in tent\": 35,\n",
    "    \"Private room in castle\": 36,\n",
    "    \"Private room in houseboat\": 37,\n",
    "    \"Private room in resort\": 38,\n",
    "    \"Private room in minsu\": 39\n",
    "})"
   ]
  },
  {
   "cell_type": "code",
   "execution_count": null,
   "metadata": {},
   "outputs": [],
   "source": [
    "Private6.info()"
   ]
  },
  {
   "cell_type": "code",
   "execution_count": null,
   "metadata": {},
   "outputs": [],
   "source": [
    "from turtle import color\n",
    "\n",
    "sns.scatterplot(x='property_type', y='price', color=\"red\", data=Private6)"
   ]
  },
  {
   "cell_type": "code",
   "execution_count": null,
   "metadata": {},
   "outputs": [],
   "source": [
    "# Declaramos las variables e independientes para la regresion lineal\n",
    "# vars_idep= df[['alcohol','speeding']]\n",
    "Vars_Indep =  Private6[['property_type']]\n",
    "Var_Dep = Private6['price']"
   ]
  },
  {
   "cell_type": "code",
   "execution_count": null,
   "metadata": {},
   "outputs": [],
   "source": [
    "# Se define model como la regresion lineal\n",
    "from sklearn.linear_model import LinearRegression\n",
    "model = LinearRegression()\n",
    "\n",
    "# Verificamos la funcion relacionada al modelo\n",
    "type(model)\n",
    "\n",
    "# Ajsutamos el modelo con las variables antes declaradas X:matriz, y: vector\n",
    "model.fit(X=Vars_Indep, y=Var_Dep)\n",
    "\n",
    "# Verificamos los coeficientes obtenidos para el modelo ajustado coef-a , intercept-b\n",
    "model.__dict__"
   ]
  },
  {
   "cell_type": "markdown",
   "metadata": {},
   "source": [
    "Modelo matematico y = 19.21956209 + 713.4683393249703"
   ]
  },
  {
   "cell_type": "code",
   "execution_count": null,
   "metadata": {},
   "outputs": [],
   "source": [
    "# Evaluamos la eficiencia del modelo obtenido por medio del coeficiente R Determinaci\n",
    "model.score(Vars_Indep,Var_Dep)"
   ]
  },
  {
   "cell_type": "code",
   "execution_count": null,
   "metadata": {},
   "outputs": [],
   "source": [
    "# Predecimos los valores\n",
    "y_pred= model.predict(X = Private6[['property_type']])\n",
    "y_pred"
   ]
  },
  {
   "cell_type": "code",
   "execution_count": null,
   "metadata": {},
   "outputs": [],
   "source": [
    "Private6.insert(9,'Predicciones', y_pred)\n",
    "Private6"
   ]
  },
  {
   "cell_type": "code",
   "execution_count": null,
   "metadata": {},
   "outputs": [],
   "source": [
    "# Visualizamos la grafica comparativa entre\n",
    "sns.scatterplot(x='property_type', y='price', color=\"blue\", data=Private6)\n",
    "sns.scatterplot(x='property_type', y='Predicciones', color=\"red\", data=Private6)"
   ]
  },
  {
   "cell_type": "code",
   "execution_count": null,
   "metadata": {},
   "outputs": [],
   "source": [
    "# Corroboramos cual es el coeficiente de Determinacion de nuestro modelo\n",
    "coef_Deter = model.score(X=Vars_Indep, y=Var_Dep)\n",
    "coef_Deter"
   ]
  },
  {
   "cell_type": "code",
   "execution_count": null,
   "metadata": {},
   "outputs": [],
   "source": [
    "# Corroboramos cual es el coeficiente de Correlacion de nuestro modelo\n",
    "coef_Correl = np.sqrt(coef_Deter)\n",
    "coef_Correl"
   ]
  },
  {
   "cell_type": "code",
   "execution_count": null,
   "metadata": {},
   "outputs": [],
   "source": [
    "Private6 = Private6.drop(Private6.loc[:, 'last_scraped':'neighbourhood'].columns, axis=1)\n",
    "Private6 = Private6.drop(Private6.loc[:, 'room_type':'instant_bookable'].columns, axis=1)"
   ]
  },
  {
   "cell_type": "code",
   "execution_count": null,
   "metadata": {},
   "outputs": [],
   "source": [
    "# Graficamos todas las disperciones entre todas las variables\n",
    "sns.pairplot(# Graficamos todas las disperciones entre todas las variables\n",
    "sns.pairplot(Private6))"
   ]
  },
  {
   "cell_type": "code",
   "execution_count": null,
   "metadata": {},
   "outputs": [],
   "source": [
    "# Encontramos todas las correlaciones entre las variables\n",
    "Corr_Factors = Private6.corr()\n",
    "# Corr_Factors\n",
    "\n",
    "# Encontramos el valor absoluto de todas las correlaciones entre las variables\n",
    "Corr_Factors1 = abs(Corr_Factors)\n",
    "# Corr_Factors1"
   ]
  },
  {
   "cell_type": "code",
   "execution_count": null,
   "metadata": {},
   "outputs": [],
   "source": [
    "# Graficamos el mapa de color de las coeficientes de correlacion\n",
    "Heat_Map = sns.heatmap(Corr_Factors1, cmap = 'Reds')"
   ]
  },
  {
   "cell_type": "markdown",
   "metadata": {},
   "source": [
    "3) Shared"
   ]
  },
  {
   "cell_type": "markdown",
   "metadata": {},
   "source": [
    "“price vs host_acceptance rate” = \"(dependiente, independiente)\""
   ]
  },
  {
   "cell_type": "code",
   "execution_count": null,
   "metadata": {},
   "outputs": [],
   "source": [
    "# Cargar archivo desde equipo\n",
    "Shared = pd.read_csv(\"room3_Shared.csv\")\n",
    "Shared = Shared.drop(['Unnamed: 0'], axis=1)\n",
    "Shared.head(1)"
   ]
  },
  {
   "cell_type": "code",
   "execution_count": null,
   "metadata": {},
   "outputs": [],
   "source": [
    "# Imprimimos el scatter plot entre la variable (total) e independiente (alcohol)\n",
    "# para observar el coportamiento en su dispercion # el coeficiente de correlacion va a salir mas grande \n",
    "from turtle import color\n",
    "\n",
    "sns.scatterplot(x='host_acceptance_rate', y='price', color=\"red\", data=Shared)"
   ]
  },
  {
   "cell_type": "code",
   "execution_count": null,
   "metadata": {},
   "outputs": [],
   "source": [
    "# Declaramos las variables e independientes para la regresion lineal\n",
    "# vars_idep= df[['alcohol','speeding']]\n",
    "Vars_Indep =  Shared[['host_acceptance_rate']]\n",
    "Var_Dep = Shared['price']"
   ]
  },
  {
   "cell_type": "code",
   "execution_count": null,
   "metadata": {},
   "outputs": [],
   "source": [
    "# Se define model como la regresion lineal\n",
    "from sklearn.linear_model import LinearRegression\n",
    "model = LinearRegression()\n",
    "\n",
    "# Verificamos la funcion relacionada al modelo\n",
    "type(model)\n",
    "\n",
    "# Ajsutamos el modelo con las variables antes declaradas X:matriz, y: vector\n",
    "model.fit(X=Vars_Indep, y=Var_Dep)\n",
    "\n",
    "# Verificamos los coeficientes obtenidos para el modelo ajustado coef-a , intercept-b\n",
    "model.__dict__"
   ]
  },
  {
   "cell_type": "markdown",
   "metadata": {},
   "source": [
    "Modelo matematico y = 7223.10006592 + -6731.87463668038"
   ]
  },
  {
   "cell_type": "code",
   "execution_count": null,
   "metadata": {},
   "outputs": [],
   "source": [
    "# Evaluamos la eficiencia del modelo obtenido por medio del coeficiente R Determinaci\n",
    "model.score(Vars_Indep,Var_Dep)"
   ]
  },
  {
   "cell_type": "code",
   "execution_count": null,
   "metadata": {},
   "outputs": [],
   "source": [
    "# Predecimos los valores de precio a partir de la var host (nos da las predicciones, numero igual de filas)\n",
    "# y_pred= model.predict(X=df[['alcohol','speeding']])\n",
    "y_pred= model.predict(X = Shared[['host_acceptance_rate']])\n",
    "y_pred"
   ]
  },
  {
   "cell_type": "code",
   "execution_count": null,
   "metadata": {},
   "outputs": [],
   "source": [
    "Shared.insert(9,'Predicciones', y_pred)\n",
    "Shared"
   ]
  },
  {
   "cell_type": "code",
   "execution_count": null,
   "metadata": {},
   "outputs": [],
   "source": [
    "# Visualizamos la grafica comparativa entre el host_acceptance_rate real y el total predecido\n",
    "sns.scatterplot(x='host_acceptance_rate', y='price', color=\"blue\", data=Shared)\n",
    "sns.scatterplot(x='host_acceptance_rate', y='Predicciones', color=\"red\", data=Shared)"
   ]
  },
  {
   "cell_type": "code",
   "execution_count": null,
   "metadata": {},
   "outputs": [],
   "source": [
    "# Corroboramos cual es el coeficiente de Determinacion de nuestro modelo\n",
    "coef_Deter = model.score(X=Vars_Indep, y=Var_Dep)\n",
    "coef_Deter"
   ]
  },
  {
   "cell_type": "code",
   "execution_count": null,
   "metadata": {},
   "outputs": [],
   "source": [
    "# Corroboramos cual es el coeficiente de Correlacion de nuestro modelo\n",
    "coef_Correl = np.sqrt(coef_Deter)\n",
    "coef_Correl"
   ]
  },
  {
   "cell_type": "code",
   "execution_count": null,
   "metadata": {},
   "outputs": [],
   "source": [
    "Shared = Shared.drop(Shared.columns[27:51], axis=1)"
   ]
  },
  {
   "cell_type": "code",
   "execution_count": null,
   "metadata": {},
   "outputs": [],
   "source": [
    "# Graficamos todas las disperciones entre todas las variables\n",
    "sns.pairplot(Shared)"
   ]
  },
  {
   "cell_type": "code",
   "execution_count": null,
   "metadata": {},
   "outputs": [],
   "source": [
    "# Encontramos todas las correlaciones entre las variables\n",
    "Corr_Factors = Shared.corr()\n",
    "# Corr_Factors\n",
    "\n",
    "# Encontramos el valor absoluto de todas las correlaciones entre las variables\n",
    "Corr_Factors1 = abs(Corr_Factors)\n",
    "# Corr_Factors1"
   ]
  },
  {
   "cell_type": "code",
   "execution_count": null,
   "metadata": {},
   "outputs": [],
   "source": [
    "# Graficamos el mapa de color de las coeficientes de correlacion\n",
    "Heat_Map = sns.heatmap(Corr_Factors1, cmap = 'Reds')"
   ]
  },
  {
   "cell_type": "markdown",
   "metadata": {},
   "source": [
    "“price vs host_is_superhost” = “(dependiente, independiente)”"
   ]
  },
  {
   "cell_type": "code",
   "execution_count": null,
   "metadata": {},
   "outputs": [],
   "source": [
    "# Cargar archivo desde equipo\n",
    "Shared1 = pd.read_csv(\"room3_Shared.csv\")\n",
    "Shared1 = Shared1.drop(['Unnamed: 0'], axis=1)\n",
    "Shared1.head(1)"
   ]
  },
  {
   "cell_type": "code",
   "execution_count": null,
   "metadata": {},
   "outputs": [],
   "source": [
    "Shared1[\"host_is_superhost\"] = Shared1[\"host_is_superhost\"].replace({\"t\": 1, \"f\": 0})\n",
    "Shared1[\"host_is_superhost\"] = Shared1[\"host_is_superhost\"].replace({\"SIN INFORMACION\": 0})"
   ]
  },
  {
   "cell_type": "code",
   "execution_count": null,
   "metadata": {},
   "outputs": [],
   "source": [
    "from turtle import color\n",
    "\n",
    "sns.scatterplot(x='host_is_superhost', y='price', color=\"red\", data=Shared1)"
   ]
  },
  {
   "cell_type": "code",
   "execution_count": null,
   "metadata": {},
   "outputs": [],
   "source": [
    "# Declaramos las variables e independientes para la regresion lineal\n",
    "# vars_idep= df[['alcohol','speeding']]\n",
    "Vars_Indep =  Shared1[['host_is_superhost']]\n",
    "Var_Dep = Shared1['price']"
   ]
  },
  {
   "cell_type": "code",
   "execution_count": null,
   "metadata": {},
   "outputs": [],
   "source": [
    "# Se define model como la regresion lineal\n",
    "from sklearn.linear_model import LinearRegression\n",
    "model = LinearRegression()\n",
    "\n",
    "# Verificamos la funcion relacionada al modelo\n",
    "type(model)\n",
    "\n",
    "# Ajsutamos el modelo con las variables antes declaradas X:matriz, y: vector\n",
    "model.fit(X=Vars_Indep, y=Var_Dep)\n",
    "\n",
    "# Verificamos los coeficientes obtenidos para el modelo ajustado coef-a , intercept-b\n",
    "model.__dict__"
   ]
  },
  {
   "cell_type": "markdown",
   "metadata": {},
   "source": [
    "Modelo y = -102.61228532 + 467.77728531855956"
   ]
  },
  {
   "cell_type": "code",
   "execution_count": null,
   "metadata": {},
   "outputs": [],
   "source": [
    "# Evaluamos la eficiencia del modelo obtenido por medio del coeficiente R Determinaci\n",
    "model.score(Vars_Indep,Var_Dep)"
   ]
  },
  {
   "cell_type": "code",
   "execution_count": null,
   "metadata": {},
   "outputs": [],
   "source": [
    "# Predecimos los valores\n",
    "y_pred= model.predict(X = Shared1[['host_is_superhost']])\n",
    "y_pred"
   ]
  },
  {
   "cell_type": "code",
   "execution_count": null,
   "metadata": {},
   "outputs": [],
   "source": [
    "Shared1.insert(10,'Predicciones', y_pred)\n",
    "Shared1"
   ]
  },
  {
   "cell_type": "code",
   "execution_count": null,
   "metadata": {},
   "outputs": [],
   "source": [
    "# Visualizamos la grafica comparativa entre\n",
    "sns.scatterplot(x='host_is_superhost', y='price', color=\"blue\", data=Shared1)\n",
    "sns.scatterplot(x='host_is_superhost', y='Predicciones', color=\"red\", data=Shared1)"
   ]
  },
  {
   "cell_type": "code",
   "execution_count": null,
   "metadata": {},
   "outputs": [],
   "source": [
    "# Corroboramos cual es el coeficiente de Determinacion de nuestro modelo\n",
    "coef_Deter = model.score(X=Vars_Indep, y=Var_Dep)\n",
    "coef_Deter"
   ]
  },
  {
   "cell_type": "code",
   "execution_count": null,
   "metadata": {},
   "outputs": [],
   "source": [
    "# Corroboramos cual es el coeficiente de Correlacion de nuestro modelo\n",
    "coef_Correl = np.sqrt(coef_Deter)\n",
    "coef_Correl"
   ]
  },
  {
   "cell_type": "code",
   "execution_count": null,
   "metadata": {},
   "outputs": [],
   "source": [
    "Shared1 = Shared1.drop(Shared1.loc[:, 'last_scraped':'host_response_time'].columns, axis=1)\n",
    "Shared1 = Shared1.drop(Shared1.loc[:, 'host_verifications':'instant_bookable'].columns, axis=1)"
   ]
  },
  {
   "cell_type": "code",
   "execution_count": null,
   "metadata": {},
   "outputs": [],
   "source": [
    "# Graficamos todas las disperciones entre todas las variables\n",
    "sns.pairplot(Shared1)"
   ]
  },
  {
   "cell_type": "code",
   "execution_count": null,
   "metadata": {},
   "outputs": [],
   "source": [
    "# Encontramos todas las correlaciones entre las variables\n",
    "Corr_Factors = Shared1.corr()\n",
    "# Corr_Factors\n",
    "\n",
    "# Encontramos el valor absoluto de todas las correlaciones entre las variables\n",
    "Corr_Factors1 = abs(Corr_Factors)\n",
    "# Corr_Factors1"
   ]
  },
  {
   "cell_type": "code",
   "execution_count": null,
   "metadata": {},
   "outputs": [],
   "source": [
    "# Graficamos el mapa de color de las coeficientes de correlacion\n",
    "Heat_Map = sns.heatmap(Corr_Factors1, cmap = 'Reds')"
   ]
  },
  {
   "cell_type": "markdown",
   "metadata": {},
   "source": [
    "“accommodates vs bathrooms” = = “(dependiente, independiente)”"
   ]
  },
  {
   "cell_type": "code",
   "execution_count": null,
   "metadata": {},
   "outputs": [],
   "source": [
    "# Cargar archivo desde equipo\n",
    "Shared2 = pd.read_csv(\"room3_Shared.csv\")\n",
    "Shared2 = Shared2.drop(['Unnamed: 0'], axis=1)\n",
    "Shared2.head(1)"
   ]
  },
  {
   "cell_type": "code",
   "execution_count": null,
   "metadata": {},
   "outputs": [],
   "source": [
    "from turtle import color\n",
    "\n",
    "sns.scatterplot(x='bathrooms', y='accommodates', color=\"red\", data=Shared2)"
   ]
  },
  {
   "cell_type": "code",
   "execution_count": null,
   "metadata": {},
   "outputs": [],
   "source": [
    "# Declaramos las variables e independientes para la regresion lineal\n",
    "# vars_idep= df[['alcohol','speeding']]\n",
    "Vars_Indep =  Shared2[['bathrooms']]\n",
    "Var_Dep = Shared2['accommodates']"
   ]
  },
  {
   "cell_type": "code",
   "execution_count": null,
   "metadata": {},
   "outputs": [],
   "source": [
    "# Se define model como la regresion lineal\n",
    "from sklearn.linear_model import LinearRegression\n",
    "model = LinearRegression()\n",
    "\n",
    "# Verificamos la funcion relacionada al modelo\n",
    "type(model)\n",
    "\n",
    "# Ajsutamos el modelo con las variables antes declaradas X:matriz, y: vector\n",
    "model.fit(X=Vars_Indep, y=Var_Dep)\n",
    "\n",
    "# Verificamos los coeficientes obtenidos para el modelo ajustado coef-a , intercept-b\n",
    "model.__dict__"
   ]
  },
  {
   "cell_type": "markdown",
   "metadata": {},
   "source": [
    "Modelo y = 0.0471236 + 1.5481903010240523"
   ]
  },
  {
   "cell_type": "code",
   "execution_count": null,
   "metadata": {},
   "outputs": [],
   "source": [
    "# Evaluamos la eficiencia del modelo obtenido por medio del coeficiente R Determinaci\n",
    "model.score(Vars_Indep,Var_Dep)"
   ]
  },
  {
   "cell_type": "code",
   "execution_count": null,
   "metadata": {},
   "outputs": [],
   "source": [
    "# Predecimos los valores\n",
    "y_pred= model.predict(X = Shared2[['bathrooms']])\n",
    "y_pred"
   ]
  },
  {
   "cell_type": "code",
   "execution_count": null,
   "metadata": {},
   "outputs": [],
   "source": [
    "Shared2.insert(5,'Predicciones', y_pred)\n",
    "Shared2"
   ]
  },
  {
   "cell_type": "code",
   "execution_count": null,
   "metadata": {},
   "outputs": [],
   "source": [
    "# Visualizamos la grafica comparativa entre\n",
    "sns.scatterplot(x='bathrooms', y='accommodates', color=\"blue\", data=Shared2)\n",
    "sns.scatterplot(x='bathrooms', y='Predicciones', color=\"red\", data=Shared2)"
   ]
  },
  {
   "cell_type": "code",
   "execution_count": null,
   "metadata": {},
   "outputs": [],
   "source": [
    "# Corroboramos cual es el coeficiente de Determinacion de nuestro modelo\n",
    "coef_Deter = model.score(X=Vars_Indep, y=Var_Dep)\n",
    "coef_Deter"
   ]
  },
  {
   "cell_type": "code",
   "execution_count": null,
   "metadata": {},
   "outputs": [],
   "source": [
    "# Corroboramos cual es el coeficiente de Correlacion de nuestro modelo\n",
    "coef_Correl = np.sqrt(coef_Deter)\n",
    "coef_Correl"
   ]
  },
  {
   "cell_type": "code",
   "execution_count": null,
   "metadata": {},
   "outputs": [],
   "source": [
    "Shared2 = Shared2.drop(Shared2.columns[27:51], axis=1)"
   ]
  },
  {
   "cell_type": "code",
   "execution_count": null,
   "metadata": {},
   "outputs": [],
   "source": [
    "# Graficamos todas las disperciones entre todas las variables\n",
    "sns.pairplot(Shared2)"
   ]
  },
  {
   "cell_type": "code",
   "execution_count": null,
   "metadata": {},
   "outputs": [],
   "source": [
    "# Encontramos todas las correlaciones entre las variables\n",
    "Corr_Factors = Shared2.corr()\n",
    "# Corr_Factors\n",
    "\n",
    "# Encontramos el valor absoluto de todas las correlaciones entre las variables\n",
    "Corr_Factors1 = abs(Corr_Factors)\n",
    "# Corr_Factors1"
   ]
  },
  {
   "cell_type": "code",
   "execution_count": null,
   "metadata": {},
   "outputs": [],
   "source": [
    "# Graficamos el mapa de color de las coeficientes de correlacion\n",
    "Heat_Map = sns.heatmap(Corr_Factors1, cmap = 'Reds')"
   ]
  },
  {
   "cell_type": "markdown",
   "metadata": {},
   "source": [
    "“price vs review_scores_cleanliness” = “(dependiente, independiente)”"
   ]
  },
  {
   "cell_type": "code",
   "execution_count": null,
   "metadata": {},
   "outputs": [],
   "source": [
    "# Cargar archivo desde equipo\n",
    "Shared3 = pd.read_csv(\"room3_Shared.csv\")\n",
    "Shared3 = Shared3.drop(['Unnamed: 0'], axis=1)\n",
    "Shared3.head(1)"
   ]
  },
  {
   "cell_type": "code",
   "execution_count": null,
   "metadata": {},
   "outputs": [],
   "source": [
    "from turtle import color\n",
    "\n",
    "sns.scatterplot(x='review_scores_cleanliness', y='price', color=\"red\", data=Shared3)"
   ]
  },
  {
   "cell_type": "code",
   "execution_count": null,
   "metadata": {},
   "outputs": [],
   "source": [
    "# Declaramos las variables e independientes para la regresion lineal\n",
    "# vars_idep= df[['alcohol','speeding']]\n",
    "Vars_Indep =  Shared3[['review_scores_cleanliness']]\n",
    "Var_Dep = Shared3['price']"
   ]
  },
  {
   "cell_type": "code",
   "execution_count": null,
   "metadata": {},
   "outputs": [],
   "source": [
    "# Se define model como la regresion lineal\n",
    "from sklearn.linear_model import LinearRegression\n",
    "model = LinearRegression()\n",
    "\n",
    "# Verificamos la funcion relacionada al modelo\n",
    "type(model)\n",
    "\n",
    "# Ajsutamos el modelo con las variables antes declaradas X:matriz, y: vector\n",
    "model.fit(X=Vars_Indep, y=Var_Dep)\n",
    "\n",
    "# Verificamos los coeficientes obtenidos para el modelo ajustado coef-a , intercept-b\n",
    "model.__dict__"
   ]
  },
  {
   "cell_type": "markdown",
   "metadata": {},
   "source": [
    "Modelo y = 73.46328303 + 103.76006205452381"
   ]
  },
  {
   "cell_type": "code",
   "execution_count": null,
   "metadata": {},
   "outputs": [],
   "source": [
    "# Evaluamos la eficiencia del modelo obtenido por medio del coeficiente R Determinaci\n",
    "model.score(Vars_Indep,Var_Dep)"
   ]
  },
  {
   "cell_type": "code",
   "execution_count": null,
   "metadata": {},
   "outputs": [],
   "source": [
    "# Predecimos los valores\n",
    "y_pred= model.predict(X = Shared3[['review_scores_cleanliness']])\n",
    "y_pred"
   ]
  },
  {
   "cell_type": "code",
   "execution_count": null,
   "metadata": {},
   "outputs": [],
   "source": [
    "Shared3.insert(9,'Predicciones', y_pred)\n",
    "Shared3"
   ]
  },
  {
   "cell_type": "code",
   "execution_count": null,
   "metadata": {},
   "outputs": [],
   "source": [
    "# Visualizamos la grafica comparativa entre\n",
    "sns.scatterplot(x='review_scores_cleanliness', y='price', color=\"blue\", data=Shared3)\n",
    "sns.scatterplot(x='review_scores_cleanliness', y='Predicciones', color=\"red\", data=Shared3)"
   ]
  },
  {
   "cell_type": "code",
   "execution_count": null,
   "metadata": {},
   "outputs": [],
   "source": [
    "# Corroboramos cual es el coeficiente de Determinacion de nuestro modelo\n",
    "coef_Deter = model.score(X=Vars_Indep, y=Var_Dep)\n",
    "coef_Deter"
   ]
  },
  {
   "cell_type": "code",
   "execution_count": null,
   "metadata": {},
   "outputs": [],
   "source": [
    "# Corroboramos cual es el coeficiente de Correlacion de nuestro modelo\n",
    "coef_Correl = np.sqrt(coef_Deter)\n",
    "coef_Correl"
   ]
  },
  {
   "cell_type": "code",
   "execution_count": null,
   "metadata": {},
   "outputs": [],
   "source": [
    "Shared3 = Shared3.drop(Shared3.columns[27:51], axis=1)"
   ]
  },
  {
   "cell_type": "code",
   "execution_count": null,
   "metadata": {},
   "outputs": [],
   "source": [
    "# Graficamos todas las disperciones entre todas las variables\n",
    "sns.pairplot(Shared3)"
   ]
  },
  {
   "cell_type": "code",
   "execution_count": null,
   "metadata": {},
   "outputs": [],
   "source": [
    "# Encontramos todas las correlaciones entre las variables\n",
    "Corr_Factors = Shared3.corr()\n",
    "# Corr_Factors\n",
    "\n",
    "# Encontramos el valor absoluto de todas las correlaciones entre las variables\n",
    "Corr_Factors1 = abs(Corr_Factors)\n",
    "# Corr_Factors1"
   ]
  },
  {
   "cell_type": "code",
   "execution_count": null,
   "metadata": {},
   "outputs": [],
   "source": [
    "# Graficamos el mapa de color de las coeficientes de correlacion\n",
    "Heat_Map = sns.heatmap(Corr_Factors1, cmap = 'Reds')"
   ]
  },
  {
   "cell_type": "markdown",
   "metadata": {},
   "source": [
    "“price vs host_identity_verified” = “(dependiente, independiente)”"
   ]
  },
  {
   "cell_type": "code",
   "execution_count": null,
   "metadata": {},
   "outputs": [],
   "source": [
    "# Cargar archivo desde equipo\n",
    "Shared4 = pd.read_csv(\"room3_Shared.csv\")\n",
    "Shared4 = Shared4.drop(['Unnamed: 0'], axis=1)\n",
    "Shared4.head(1)"
   ]
  },
  {
   "cell_type": "code",
   "execution_count": null,
   "metadata": {},
   "outputs": [],
   "source": [
    "Shared4[\"host_identity_verified\"] = Shared4[\"host_identity_verified\"].replace({\"t\": 1, \"f\": 0})"
   ]
  },
  {
   "cell_type": "code",
   "execution_count": null,
   "metadata": {},
   "outputs": [],
   "source": [
    "from turtle import color\n",
    "\n",
    "sns.scatterplot(x='host_identity_verified', y='price', color=\"red\", data=Shared4)"
   ]
  },
  {
   "cell_type": "code",
   "execution_count": null,
   "metadata": {},
   "outputs": [],
   "source": [
    "# Declaramos las variables e independientes para la regresion lineal\n",
    "# vars_idep= df[['alcohol','speeding']]\n",
    "Vars_Indep =  Shared4[['host_identity_verified']]\n",
    "Var_Dep = Shared4['price']"
   ]
  },
  {
   "cell_type": "code",
   "execution_count": null,
   "metadata": {},
   "outputs": [],
   "source": [
    "# Se define model como la regresion lineal\n",
    "from sklearn.linear_model import LinearRegression\n",
    "model = LinearRegression()\n",
    "\n",
    "# Verificamos la funcion relacionada al modelo\n",
    "type(model)\n",
    "\n",
    "# Ajsutamos el modelo con las variables antes declaradas X:matriz, y: vector\n",
    "model.fit(X=Vars_Indep, y=Var_Dep)\n",
    "\n",
    "# Verificamos los coeficientes obtenidos para el modelo ajustado coef-a , intercept-b\n",
    "model.__dict__"
   ]
  },
  {
   "cell_type": "markdown",
   "metadata": {},
   "source": [
    "Modelo y = -279.00123773 + 687.1436619718311"
   ]
  },
  {
   "cell_type": "code",
   "execution_count": null,
   "metadata": {},
   "outputs": [],
   "source": [
    "# Evaluamos la eficiencia del modelo obtenido por medio del coeficiente R Determinaci\n",
    "model.score(Vars_Indep,Var_Dep)"
   ]
  },
  {
   "cell_type": "code",
   "execution_count": null,
   "metadata": {},
   "outputs": [],
   "source": [
    "# Predecimos los valores\n",
    "y_pred= model.predict(X = Shared4[['host_identity_verified']])\n",
    "y_pred"
   ]
  },
  {
   "cell_type": "code",
   "execution_count": null,
   "metadata": {},
   "outputs": [],
   "source": [
    "Shared4.insert(9,'Predicciones', y_pred)\n",
    "Shared4"
   ]
  },
  {
   "cell_type": "code",
   "execution_count": null,
   "metadata": {},
   "outputs": [],
   "source": [
    "# Visualizamos la grafica comparativa entre\n",
    "sns.scatterplot(x='host_identity_verified', y='price', color=\"blue\", data=Shared4)\n",
    "sns.scatterplot(x='host_identity_verified', y='Predicciones', color=\"red\", data=Shared4)"
   ]
  },
  {
   "cell_type": "code",
   "execution_count": null,
   "metadata": {},
   "outputs": [],
   "source": [
    "# Corroboramos cual es el coeficiente de Determinacion de nuestro modelo\n",
    "coef_Deter = model.score(X=Vars_Indep, y=Var_Dep)\n",
    "coef_Deter"
   ]
  },
  {
   "cell_type": "code",
   "execution_count": null,
   "metadata": {},
   "outputs": [],
   "source": [
    "# Corroboramos cual es el coeficiente de Correlacion de nuestro modelo\n",
    "coef_Correl = np.sqrt(coef_Deter)\n",
    "coef_Correl"
   ]
  },
  {
   "cell_type": "code",
   "execution_count": null,
   "metadata": {},
   "outputs": [],
   "source": [
    "Shared4 = Shared4.drop(Shared4.loc[:, 'last_scraped':'host_has_profile_pic'].columns, axis=1)\n",
    "Shared4 = Shared4.drop(Shared4.loc[:, 'neighbourhood':'instant_bookable'].columns, axis=1)\n",
    "# Shared4.info()"
   ]
  },
  {
   "cell_type": "code",
   "execution_count": null,
   "metadata": {},
   "outputs": [],
   "source": [
    "# Graficamos todas las disperciones entre todas las variables\n",
    "sns.pairplot(Shared4)"
   ]
  },
  {
   "cell_type": "code",
   "execution_count": null,
   "metadata": {},
   "outputs": [],
   "source": [
    "# Encontramos todas las correlaciones entre las variables\n",
    "Corr_Factors = Shared4.corr()\n",
    "# Corr_Factors\n",
    "\n",
    "# Encontramos el valor absoluto de todas las correlaciones entre las variables\n",
    "Corr_Factors1 = abs(Corr_Factors)\n",
    "# Corr_Factors1"
   ]
  },
  {
   "cell_type": "code",
   "execution_count": null,
   "metadata": {},
   "outputs": [],
   "source": [
    "# Graficamos el mapa de color de las coeficientes de correlacion\n",
    "Heat_Map = sns.heatmap(Corr_Factors1, cmap = 'Reds')"
   ]
  },
  {
   "cell_type": "markdown",
   "metadata": {},
   "source": [
    "“price vs instant_bookable” = “(dependiente, independiente)”"
   ]
  },
  {
   "cell_type": "code",
   "execution_count": null,
   "metadata": {},
   "outputs": [],
   "source": [
    "# Cargar archivo desde equipo\n",
    "Shared5 = pd.read_csv(\"room3_Shared.csv\")\n",
    "Shared5 = Shared5.drop(['Unnamed: 0'], axis=1)\n",
    "Shared5.head(1)"
   ]
  },
  {
   "cell_type": "code",
   "execution_count": null,
   "metadata": {},
   "outputs": [],
   "source": [
    "Shared5[\"instant_bookable\"] = Shared5[\"instant_bookable\"].replace({\"t\": 1, \"f\": 0})"
   ]
  },
  {
   "cell_type": "code",
   "execution_count": null,
   "metadata": {},
   "outputs": [],
   "source": [
    "# Imprimimos el scatter plot entre la variable (total) e independiente (alcohol)\n",
    "# para observar el coportamiento en su dispercion # el coeficiente de correlacion va a salir mas grande \n",
    "from turtle import color\n",
    "\n",
    "sns.scatterplot(x='instant_bookable', y='price', color=\"red\", data=Shared5)"
   ]
  },
  {
   "cell_type": "code",
   "execution_count": null,
   "metadata": {},
   "outputs": [],
   "source": [
    "# Declaramos las variables e independientes para la regresion lineal\n",
    "# vars_idep= df[['alcohol','speeding']]\n",
    "Vars_Indep =  Shared5[['instant_bookable']]\n",
    "Var_Dep = Shared5['price']"
   ]
  },
  {
   "cell_type": "code",
   "execution_count": null,
   "metadata": {},
   "outputs": [],
   "source": [
    "# Se define model como la regresion lineal\n",
    "from sklearn.linear_model import LinearRegression\n",
    "model = LinearRegression()\n",
    "\n",
    "# Verificamos la funcion relacionada al modelo\n",
    "type(model)\n",
    "\n",
    "# Ajsutamos el modelo con las variables antes declaradas X:matriz, y: vector\n",
    "model.fit(X=Vars_Indep, y=Var_Dep)\n",
    "\n",
    "# Verificamos los coeficientes obtenidos para el modelo ajustado coef-a , intercept-b\n",
    "model.__dict__"
   ]
  },
  {
   "cell_type": "markdown",
   "metadata": {},
   "source": [
    "Modelo y = -147.77530611 +  536.4042780748664"
   ]
  },
  {
   "cell_type": "code",
   "execution_count": null,
   "metadata": {},
   "outputs": [],
   "source": [
    "# Evaluamos la eficiencia del modelo obtenido por medio del coeficiente R Determinaci\n",
    "model.score(Vars_Indep,Var_Dep)"
   ]
  },
  {
   "cell_type": "code",
   "execution_count": null,
   "metadata": {},
   "outputs": [],
   "source": [
    "# Predecimos los valores\n",
    "y_pred= model.predict(X = Shared5[['instant_bookable']])\n",
    "y_pred"
   ]
  },
  {
   "cell_type": "code",
   "execution_count": null,
   "metadata": {},
   "outputs": [],
   "source": [
    "Shared5.insert(9,'Predicciones', y_pred)\n",
    "# Shared5"
   ]
  },
  {
   "cell_type": "code",
   "execution_count": null,
   "metadata": {},
   "outputs": [],
   "source": [
    "# Visualizamos la grafica comparativa entre\n",
    "sns.scatterplot(x='instant_bookable', y='price', color=\"blue\", data=Shared5)\n",
    "sns.scatterplot(x='instant_bookable', y='Predicciones', color=\"red\", data=Shared5)"
   ]
  },
  {
   "cell_type": "code",
   "execution_count": null,
   "metadata": {},
   "outputs": [],
   "source": [
    "# Corroboramos cual es el coeficiente de Determinacion de nuestro modelo\n",
    "coef_Deter = model.score(X=Vars_Indep, y=Var_Dep)\n",
    "coef_Deter"
   ]
  },
  {
   "cell_type": "code",
   "execution_count": null,
   "metadata": {},
   "outputs": [],
   "source": [
    "# Corroboramos cual es el coeficiente de Correlacion de nuestro modelo\n",
    "coef_Correl = np.sqrt(coef_Deter)\n",
    "coef_Correl"
   ]
  },
  {
   "cell_type": "code",
   "execution_count": null,
   "metadata": {},
   "outputs": [],
   "source": [
    "Shared5 = Shared5.drop(Shared5.loc[:, 'last_scraped':'license'].columns, axis=1)"
   ]
  },
  {
   "cell_type": "code",
   "execution_count": null,
   "metadata": {},
   "outputs": [],
   "source": [
    "# Graficamos todas las disperciones entre todas las variables\n",
    "sns.pairplot(Shared5)"
   ]
  },
  {
   "cell_type": "code",
   "execution_count": null,
   "metadata": {},
   "outputs": [],
   "source": [
    "# Encontramos todas las correlaciones entre las variables\n",
    "Corr_Factors = Shared5.corr()\n",
    "# Corr_Factors\n",
    "\n",
    "# Encontramos el valor absoluto de todas las correlaciones entre las variables\n",
    "Corr_Factors1 = abs(Corr_Factors)\n",
    "# Corr_Factors1"
   ]
  },
  {
   "cell_type": "code",
   "execution_count": null,
   "metadata": {},
   "outputs": [],
   "source": [
    "# Graficamos el mapa de color de las coeficientes de correlacion\n",
    "Heat_Map = sns.heatmap(Corr_Factors1, cmap = 'Reds')"
   ]
  },
  {
   "cell_type": "markdown",
   "metadata": {},
   "source": [
    "“Price vs property_type” = “(dependiente, independiente)”"
   ]
  },
  {
   "cell_type": "code",
   "execution_count": null,
   "metadata": {},
   "outputs": [],
   "source": [
    "# Cargar archivo desde equipo\n",
    "Shared6 = pd.read_csv(\"room3_Shared.csv\")\n",
    "Shared6 = Shared6.drop(['Unnamed: 0'], axis=1)\n",
    "Shared6.head(1)"
   ]
  },
  {
   "cell_type": "code",
   "execution_count": null,
   "metadata": {},
   "outputs": [],
   "source": [
    "Shared6[\"property_type\"] = Shared6[\"property_type\"].replace({\n",
    "    \"Shared room in rental unit\": 1,\n",
    "    \"Shared room in loft\": 2,\n",
    "    \"Shared room in guesthouse\": 3,\n",
    "    \"Shared room in hostel\": 4,\n",
    "    \"Shared room in home\": 5,\n",
    "    \"Shared room in guest suite\": 6,\n",
    "    \"Shared room in dorm\": 7,\n",
    "    \"Shared room in condo\": 8,\n",
    "    \"Shared room in hotel\": 9,\n",
    "    \"Shared room in tiny home\": 10,\n",
    "    \"Shared room in cabin\": 11,\n",
    "    \"Shared room in serviced apartment\": 12,\n",
    "    \"Shared room in tent\": 13,\n",
    "    \"Shared room in bed and breakfast\": 14,\n",
    "    \"Shared room in casa particular\": 15,\n",
    "    \"Shared room in townhouse\": 16,\n",
    "    \"Shared room in farm stay\": 17,\n",
    "    \"Shared room in boutique hotel\": 18\n",
    "})\n"
   ]
  },
  {
   "cell_type": "code",
   "execution_count": null,
   "metadata": {},
   "outputs": [],
   "source": [
    "Shared6.info()"
   ]
  },
  {
   "cell_type": "code",
   "execution_count": null,
   "metadata": {},
   "outputs": [],
   "source": [
    "from turtle import color\n",
    "\n",
    "sns.scatterplot(x='property_type', y='price', color=\"red\", data=Shared6)"
   ]
  },
  {
   "cell_type": "code",
   "execution_count": null,
   "metadata": {},
   "outputs": [],
   "source": [
    "# Declaramos las variables e independientes para la regresion lineal\n",
    "# vars_idep= df[['alcohol','speeding']]\n",
    "Vars_Indep =  Shared6[['property_type']]\n",
    "Var_Dep = Shared6['price']"
   ]
  },
  {
   "cell_type": "code",
   "execution_count": null,
   "metadata": {},
   "outputs": [],
   "source": [
    "# Se define model como la regresion lineal\n",
    "from sklearn.linear_model import LinearRegression\n",
    "model = LinearRegression()\n",
    "\n",
    "# Verificamos la funcion relacionada al modelo\n",
    "type(model)\n",
    "\n",
    "# Ajsutamos el modelo con las variables antes declaradas X:matriz, y: vector\n",
    "model.fit(X=Vars_Indep, y=Var_Dep)\n",
    "\n",
    "# Verificamos los coeficientes obtenidos para el modelo ajustado coef-a , intercept-b\n",
    "model.__dict__"
   ]
  },
  {
   "cell_type": "markdown",
   "metadata": {},
   "source": [
    "Modelo y = -2.44223405 + 469.53356318866065"
   ]
  },
  {
   "cell_type": "code",
   "execution_count": null,
   "metadata": {},
   "outputs": [],
   "source": [
    "# Evaluamos la eficiencia del modelo obtenido por medio del coeficiente R Determinaci\n",
    "model.score(Vars_Indep,Var_Dep)"
   ]
  },
  {
   "cell_type": "code",
   "execution_count": null,
   "metadata": {},
   "outputs": [],
   "source": [
    "# Predecimos los valores\n",
    "y_pred= model.predict(X = Shared6[['property_type']])\n",
    "y_pred"
   ]
  },
  {
   "cell_type": "code",
   "execution_count": null,
   "metadata": {},
   "outputs": [],
   "source": [
    "Shared6.insert(9,'Predicciones', y_pred)\n",
    "Shared6"
   ]
  },
  {
   "cell_type": "code",
   "execution_count": null,
   "metadata": {},
   "outputs": [],
   "source": [
    "# Visualizamos la grafica comparativa entre\n",
    "sns.scatterplot(x='property_type', y='price', color=\"blue\", data=Shared6)\n",
    "sns.scatterplot(x='property_type', y='Predicciones', color=\"red\", data=Shared6)"
   ]
  },
  {
   "cell_type": "code",
   "execution_count": null,
   "metadata": {},
   "outputs": [],
   "source": [
    "# Corroboramos cual es el coeficiente de Determinacion de nuestro modelo\n",
    "coef_Deter = model.score(X=Vars_Indep, y=Var_Dep)\n",
    "coef_Deter"
   ]
  },
  {
   "cell_type": "code",
   "execution_count": null,
   "metadata": {},
   "outputs": [],
   "source": [
    "# Corroboramos cual es el coeficiente de Correlacion de nuestro modelo\n",
    "coef_Correl = np.sqrt(coef_Deter)\n",
    "coef_Correl"
   ]
  },
  {
   "cell_type": "code",
   "execution_count": null,
   "metadata": {},
   "outputs": [],
   "source": [
    "Shared6 = Shared6.drop(Shared6.loc[:, 'last_scraped':'neighbourhood'].columns, axis=1)\n",
    "Shared6 = Shared6.drop(Shared6.loc[:, 'room_type':'instant_bookable'].columns, axis=1)"
   ]
  },
  {
   "cell_type": "code",
   "execution_count": null,
   "metadata": {},
   "outputs": [],
   "source": [
    "# Graficamos todas las disperciones entre todas las variables\n",
    "sns.pairplot(Shared6)"
   ]
  },
  {
   "cell_type": "code",
   "execution_count": null,
   "metadata": {},
   "outputs": [],
   "source": [
    "# Encontramos todas las correlaciones entre las variables\n",
    "Corr_Factors = Shared6.corr()\n",
    "# Corr_Factors\n",
    "\n",
    "# Encontramos el valor absoluto de todas las correlaciones entre las variables\n",
    "Corr_Factors1 = abs(Corr_Factors)\n",
    "# Corr_Factors1"
   ]
  },
  {
   "cell_type": "code",
   "execution_count": null,
   "metadata": {},
   "outputs": [],
   "source": [
    "# Graficamos el mapa de color de las coeficientes de correlacion\n",
    "Heat_Map = sns.heatmap(Corr_Factors1, cmap = 'Reds')"
   ]
  },
  {
   "cell_type": "markdown",
   "metadata": {},
   "source": [
    "4) Hotel"
   ]
  },
  {
   "cell_type": "markdown",
   "metadata": {},
   "source": [
    "“price vs host_acceptance rate” = \"(dependiente, independiente)\""
   ]
  },
  {
   "cell_type": "code",
   "execution_count": null,
   "metadata": {},
   "outputs": [],
   "source": [
    "# Cargar archivo desde equipo\n",
    "Hotel = pd.read_csv(\"room4_Hotel.csv\")\n",
    "Hotel = Hotel.drop(['Unnamed: 0'], axis=1)\n",
    "Hotel.head(1)"
   ]
  },
  {
   "cell_type": "code",
   "execution_count": null,
   "metadata": {},
   "outputs": [],
   "source": [
    "# Imprimimos el scatter plot entre la variable (total) e independiente (alcohol)\n",
    "# para observar el coportamiento en su dispercion # el coeficiente de correlacion va a salir mas grande \n",
    "from turtle import color\n",
    "\n",
    "sns.scatterplot(x='host_acceptance_rate', y='price', color=\"red\", data=Hotel)"
   ]
  },
  {
   "cell_type": "code",
   "execution_count": null,
   "metadata": {},
   "outputs": [],
   "source": [
    "# Declaramos las variables e independientes para la regresion lineal\n",
    "Vars_Indep =  Hotel[['host_acceptance_rate']]\n",
    "Var_Dep = Hotel['price']"
   ]
  },
  {
   "cell_type": "code",
   "execution_count": null,
   "metadata": {},
   "outputs": [],
   "source": [
    "# Se define model como la regresion lineal\n",
    "from sklearn.linear_model import LinearRegression\n",
    "model = LinearRegression()\n",
    "\n",
    "# Verificamos la funcion relacionada al modelo\n",
    "type(model)\n",
    "\n",
    "# Ajsutamos el modelo con las variables antes declaradas X:matriz, y: vector\n",
    "model.fit(X=Vars_Indep, y=Var_Dep)\n",
    "\n",
    "# Verificamos los coeficientes obtenidos para el modelo ajustado coef-a , intercept-b\n",
    "model.__dict__"
   ]
  },
  {
   "cell_type": "markdown",
   "metadata": {},
   "source": [
    "Modelo y = -1617.71352106 + 2901.5079474051727"
   ]
  },
  {
   "cell_type": "code",
   "execution_count": null,
   "metadata": {},
   "outputs": [],
   "source": [
    "# Evaluamos la eficiencia del modelo obtenido por medio del coeficiente R Determinaci\n",
    "model.score(Vars_Indep,Var_Dep)"
   ]
  },
  {
   "cell_type": "code",
   "execution_count": null,
   "metadata": {},
   "outputs": [],
   "source": [
    "# Predecimos los valores de precio a partir de la var host (nos da las predicciones, numero igual de filas)\n",
    "# y_pred= model.predict(X=df[['alcohol','speeding']])\n",
    "y_pred= model.predict(X = Hotel[['host_acceptance_rate']])\n",
    "y_pred"
   ]
  },
  {
   "cell_type": "code",
   "execution_count": null,
   "metadata": {},
   "outputs": [],
   "source": [
    "Hotel.insert(9,'Predicciones', y_pred)\n",
    "Hotel"
   ]
  },
  {
   "cell_type": "code",
   "execution_count": null,
   "metadata": {},
   "outputs": [],
   "source": [
    "# Visualizamos la grafica comparativa entre el host_acceptance_rate real y el total predecido\n",
    "sns.scatterplot(x='host_acceptance_rate', y='price', color=\"blue\", data=Hotel)\n",
    "sns.scatterplot(x='host_acceptance_rate', y='Predicciones', color=\"red\", data=Hotel)"
   ]
  },
  {
   "cell_type": "code",
   "execution_count": null,
   "metadata": {},
   "outputs": [],
   "source": [
    "# Corroboramos cual es el coeficiente de Determinacion de nuestro modelo\n",
    "coef_Deter = model.score(X=Vars_Indep, y=Var_Dep)\n",
    "coef_Deter"
   ]
  },
  {
   "cell_type": "code",
   "execution_count": null,
   "metadata": {},
   "outputs": [],
   "source": [
    "# Corroboramos cual es el coeficiente de Correlacion de nuestro modelo\n",
    "coef_Correl = np.sqrt(coef_Deter)\n",
    "coef_Correl"
   ]
  },
  {
   "cell_type": "code",
   "execution_count": null,
   "metadata": {},
   "outputs": [],
   "source": [
    "Hotel = Hotel.drop(Hotel.columns[27:51], axis=1)"
   ]
  },
  {
   "cell_type": "code",
   "execution_count": null,
   "metadata": {},
   "outputs": [],
   "source": [
    "# Graficamos todas las disperciones entre todas las variables\n",
    "sns.pairplot(Hotel)"
   ]
  },
  {
   "cell_type": "code",
   "execution_count": null,
   "metadata": {},
   "outputs": [],
   "source": [
    "# Encontramos todas las correlaciones entre las variables\n",
    "Corr_Factors = Hotel.corr()\n",
    "# Corr_Factors\n",
    "\n",
    "# Encontramos el valor absoluto de todas las correlaciones entre las variables\n",
    "Corr_Factors1 = abs(Corr_Factors)\n",
    "# Corr_Factors1"
   ]
  },
  {
   "cell_type": "code",
   "execution_count": null,
   "metadata": {},
   "outputs": [],
   "source": [
    "# Graficamos el mapa de color de las coeficientes de correlacion\n",
    "Heat_Map = sns.heatmap(Corr_Factors1, cmap = 'Reds')"
   ]
  },
  {
   "cell_type": "markdown",
   "metadata": {},
   "source": [
    "“price vs host_is_superhost” = “(dependiente, independiente)”"
   ]
  },
  {
   "cell_type": "code",
   "execution_count": null,
   "metadata": {},
   "outputs": [],
   "source": [
    "# Cargar archivo desde equipo\n",
    "Hotel1 = pd.read_csv(\"room4_Hotel.csv\")\n",
    "Hotel1 = Hotel1.drop(['Unnamed: 0'], axis=1)\n",
    "Hotel1.head(1)"
   ]
  },
  {
   "cell_type": "code",
   "execution_count": null,
   "metadata": {},
   "outputs": [],
   "source": [
    "Hotel1[\"host_is_superhost\"] = Hotel1[\"host_is_superhost\"].replace({\"t\": 1, \"f\": 0})\n",
    "Hotel1[\"host_is_superhost\"] = Hotel1[\"host_is_superhost\"].replace({\"SIN INFORMACION\": 0})"
   ]
  },
  {
   "cell_type": "code",
   "execution_count": null,
   "metadata": {},
   "outputs": [],
   "source": [
    "from turtle import color\n",
    "\n",
    "sns.scatterplot(x='host_is_superhost', y='price', color=\"red\", data=Hotel1)"
   ]
  },
  {
   "cell_type": "code",
   "execution_count": null,
   "metadata": {},
   "outputs": [],
   "source": [
    "# Declaramos las variables e independientes para la regresion lineal\n",
    "# vars_idep= df[['alcohol','speeding']]\n",
    "Vars_Indep =  Hotel1[['host_is_superhost']]\n",
    "Var_Dep = Hotel1['price']"
   ]
  },
  {
   "cell_type": "code",
   "execution_count": null,
   "metadata": {},
   "outputs": [],
   "source": [
    "# Se define model como la regresion lineal\n",
    "from sklearn.linear_model import LinearRegression\n",
    "model = LinearRegression()\n",
    "\n",
    "# Verificamos la funcion relacionada al modelo\n",
    "type(model)\n",
    "\n",
    "# Ajsutamos el modelo con las variables antes declaradas X:matriz, y: vector\n",
    "model.fit(X=Vars_Indep, y=Var_Dep)\n",
    "\n",
    "# Verificamos los coeficientes obtenidos para el modelo ajustado coef-a , intercept-b\n",
    "model.__dict__"
   ]
  },
  {
   "cell_type": "markdown",
   "metadata": {},
   "source": [
    "Modelo y = 205.22875772 + 1240.2744680851067"
   ]
  },
  {
   "cell_type": "code",
   "execution_count": null,
   "metadata": {},
   "outputs": [],
   "source": [
    "# Evaluamos la eficiencia del modelo obtenido por medio del coeficiente R Determinaci\n",
    "model.score(Vars_Indep,Var_Dep)"
   ]
  },
  {
   "cell_type": "code",
   "execution_count": null,
   "metadata": {},
   "outputs": [],
   "source": [
    "# Predecimos los valores\n",
    "y_pred= model.predict(X = Hotel1[['host_is_superhost']])\n",
    "y_pred"
   ]
  },
  {
   "cell_type": "code",
   "execution_count": null,
   "metadata": {},
   "outputs": [],
   "source": [
    "Hotel1.insert(10,'Predicciones', y_pred)\n",
    "Hotel1"
   ]
  },
  {
   "cell_type": "code",
   "execution_count": null,
   "metadata": {},
   "outputs": [],
   "source": [
    "# Visualizamos la grafica comparativa entre\n",
    "sns.scatterplot(x='host_is_superhost', y='price', color=\"blue\", data=Hotel1)\n",
    "sns.scatterplot(x='host_is_superhost', y='Predicciones', color=\"red\", data=Hotel1)"
   ]
  },
  {
   "cell_type": "code",
   "execution_count": null,
   "metadata": {},
   "outputs": [],
   "source": [
    "# Corroboramos cual es el coeficiente de Determinacion de nuestro modelo\n",
    "coef_Deter = model.score(X=Vars_Indep, y=Var_Dep)\n",
    "coef_Deter"
   ]
  },
  {
   "cell_type": "code",
   "execution_count": null,
   "metadata": {},
   "outputs": [],
   "source": [
    "# Corroboramos cual es el coeficiente de Correlacion de nuestro modelo\n",
    "coef_Correl = np.sqrt(coef_Deter)\n",
    "coef_Correl"
   ]
  },
  {
   "cell_type": "code",
   "execution_count": null,
   "metadata": {},
   "outputs": [],
   "source": [
    "Hotel1 = Hotel1.drop(Hotel1.loc[:, 'last_scraped':'host_response_time'].columns, axis=1)\n",
    "Hotel1 = Hotel1.drop(Hotel1.loc[:, 'host_verifications':'instant_bookable'].columns, axis=1)"
   ]
  },
  {
   "cell_type": "code",
   "execution_count": null,
   "metadata": {},
   "outputs": [],
   "source": [
    "# Graficamos todas las disperciones entre todas las variables\n",
    "sns.pairplot(Hotel1)"
   ]
  },
  {
   "cell_type": "code",
   "execution_count": null,
   "metadata": {},
   "outputs": [],
   "source": [
    "# Encontramos todas las correlaciones entre las variables\n",
    "Corr_Factors = Hotel1.corr()\n",
    "# Corr_Factors\n",
    "\n",
    "# Encontramos el valor absoluto de todas las correlaciones entre las variables\n",
    "Corr_Factors1 = abs(Corr_Factors)\n",
    "# Corr_Factors1"
   ]
  },
  {
   "cell_type": "code",
   "execution_count": null,
   "metadata": {},
   "outputs": [],
   "source": [
    "# Graficamos el mapa de color de las coeficientes de correlacion\n",
    "Heat_Map = sns.heatmap(Corr_Factors1, cmap = 'Reds')"
   ]
  },
  {
   "cell_type": "markdown",
   "metadata": {},
   "source": [
    "“accommodates vs bathrooms” = = “(dependiente, independiente)”"
   ]
  },
  {
   "cell_type": "code",
   "execution_count": null,
   "metadata": {},
   "outputs": [],
   "source": [
    "# Cargar archivo desde equipo\n",
    "Hotel2 = pd.read_csv(\"room4_Hotel.csv\")\n",
    "Hotel2 = Hotel2.drop(['Unnamed: 0'], axis=1)\n",
    "Hotel2.head(1)"
   ]
  },
  {
   "cell_type": "code",
   "execution_count": null,
   "metadata": {},
   "outputs": [],
   "source": [
    "from turtle import color\n",
    "\n",
    "sns.scatterplot(x='bathrooms', y='accommodates', color=\"red\", data=Hotel2)"
   ]
  },
  {
   "cell_type": "code",
   "execution_count": null,
   "metadata": {},
   "outputs": [],
   "source": [
    "# Declaramos las variables e independientes para la regresion lineal\n",
    "# vars_idep= df[['alcohol','speeding']]\n",
    "Vars_Indep =  Hotel2[['bathrooms']]\n",
    "Var_Dep = Hotel2['accommodates']"
   ]
  },
  {
   "cell_type": "code",
   "execution_count": null,
   "metadata": {},
   "outputs": [],
   "source": [
    "# Se define model como la regresion lineal\n",
    "from sklearn.linear_model import LinearRegression\n",
    "model = LinearRegression()\n",
    "\n",
    "# Verificamos la funcion relacionada al modelo\n",
    "type(model)\n",
    "\n",
    "# Ajsutamos el modelo con las variables antes declaradas X:matriz, y: vector\n",
    "model.fit(X=Vars_Indep, y=Var_Dep)\n",
    "\n",
    "# Verificamos los coeficientes obtenidos para el modelo ajustado coef-a , intercept-b\n",
    "model.__dict__"
   ]
  },
  {
   "cell_type": "markdown",
   "metadata": {},
   "source": [
    "Modelo y = 0.48783897 + 2.4720053641904705"
   ]
  },
  {
   "cell_type": "code",
   "execution_count": null,
   "metadata": {},
   "outputs": [],
   "source": [
    "# Evaluamos la eficiencia del modelo obtenido por medio del coeficiente R Determinaci\n",
    "model.score(Vars_Indep,Var_Dep)"
   ]
  },
  {
   "cell_type": "code",
   "execution_count": null,
   "metadata": {},
   "outputs": [],
   "source": [
    "# Predecimos los valores\n",
    "y_pred= model.predict(X = Hotel2[['bathrooms']])\n",
    "y_pred"
   ]
  },
  {
   "cell_type": "code",
   "execution_count": null,
   "metadata": {},
   "outputs": [],
   "source": [
    "Hotel2.insert(5,'Predicciones', y_pred)\n",
    "Hotel2"
   ]
  },
  {
   "cell_type": "code",
   "execution_count": null,
   "metadata": {},
   "outputs": [],
   "source": [
    "# Visualizamos la grafica comparativa entre\n",
    "sns.scatterplot(x='bathrooms', y='accommodates', color=\"blue\", data=Hotel2)\n",
    "sns.scatterplot(x='bathrooms', y='Predicciones', color=\"red\", data=Hotel2)"
   ]
  },
  {
   "cell_type": "code",
   "execution_count": null,
   "metadata": {},
   "outputs": [],
   "source": [
    "# Corroboramos cual es el coeficiente de Determinacion de nuestro modelo\n",
    "coef_Deter = model.score(X=Vars_Indep, y=Var_Dep)\n",
    "coef_Deter"
   ]
  },
  {
   "cell_type": "code",
   "execution_count": null,
   "metadata": {},
   "outputs": [],
   "source": [
    "# Corroboramos cual es el coeficiente de Correlacion de nuestro modelo\n",
    "coef_Correl = np.sqrt(coef_Deter)\n",
    "coef_Correl"
   ]
  },
  {
   "cell_type": "code",
   "execution_count": null,
   "metadata": {},
   "outputs": [],
   "source": [
    "Hotel2 = Hotel2.drop(Hotel2.columns[27:51], axis=1)"
   ]
  },
  {
   "cell_type": "code",
   "execution_count": null,
   "metadata": {},
   "outputs": [],
   "source": [
    "# Graficamos todas las disperciones entre todas las variables\n",
    "sns.pairplot(Hotel2)"
   ]
  },
  {
   "cell_type": "code",
   "execution_count": null,
   "metadata": {},
   "outputs": [],
   "source": [
    "# Encontramos todas las correlaciones entre las variables\n",
    "Corr_Factors = Hotel2.corr()\n",
    "# Corr_Factors\n",
    "\n",
    "# Encontramos el valor absoluto de todas las correlaciones entre las variables\n",
    "Corr_Factors1 = abs(Corr_Factors)\n",
    "# Corr_Factors1"
   ]
  },
  {
   "cell_type": "code",
   "execution_count": null,
   "metadata": {},
   "outputs": [],
   "source": [
    "# Graficamos el mapa de color de las coeficientes de correlacion\n",
    "Heat_Map = sns.heatmap(Corr_Factors1, cmap = 'Reds')"
   ]
  },
  {
   "cell_type": "markdown",
   "metadata": {},
   "source": [
    "“price vs review_scores_cleanliness” = “(dependiente, independiente)”"
   ]
  },
  {
   "cell_type": "code",
   "execution_count": null,
   "metadata": {},
   "outputs": [],
   "source": [
    "# Cargar archivo desde equipo\n",
    "Hotel3 = pd.read_csv(\"room4_Hotel.csv\")\n",
    "Hotel3 = Hotel3.drop(['Unnamed: 0'], axis=1)\n",
    "Hotel3.head(1)"
   ]
  },
  {
   "cell_type": "code",
   "execution_count": null,
   "metadata": {},
   "outputs": [],
   "source": [
    "from turtle import color\n",
    "\n",
    "sns.scatterplot(x='review_scores_cleanliness', y='price', color=\"red\", data=Hotel3)"
   ]
  },
  {
   "cell_type": "code",
   "execution_count": null,
   "metadata": {},
   "outputs": [],
   "source": [
    "# Declaramos las variables e independientes para la regresion lineal\n",
    "# vars_idep= df[['alcohol','speeding']]\n",
    "Vars_Indep =  Hotel3[['review_scores_cleanliness']]\n",
    "Var_Dep = Hotel3['price']"
   ]
  },
  {
   "cell_type": "code",
   "execution_count": null,
   "metadata": {},
   "outputs": [],
   "source": [
    "# Se define model como la regresion lineal\n",
    "from sklearn.linear_model import LinearRegression\n",
    "model = LinearRegression()\n",
    "\n",
    "# Verificamos la funcion relacionada al modelo\n",
    "type(model)\n",
    "\n",
    "# Ajsutamos el modelo con las variables antes declaradas X:matriz, y: vector\n",
    "model.fit(X=Vars_Indep, y=Var_Dep)\n",
    "\n",
    "# Verificamos los coeficientes obtenidos para el modelo ajustado coef-a , intercept-b\n",
    "model.__dict__"
   ]
  },
  {
   "cell_type": "markdown",
   "metadata": {},
   "source": [
    "Modelo y =   312.578228 +  (-221.25731085564144)"
   ]
  },
  {
   "cell_type": "code",
   "execution_count": null,
   "metadata": {},
   "outputs": [],
   "source": [
    "# Evaluamos la eficiencia del modelo obtenido por medio del coeficiente R Determinaci\n",
    "model.score(Vars_Indep,Var_Dep)"
   ]
  },
  {
   "cell_type": "code",
   "execution_count": null,
   "metadata": {},
   "outputs": [],
   "source": [
    "# Predecimos los valores\n",
    "y_pred= model.predict(X = Hotel3[['review_scores_cleanliness']])\n",
    "y_pred"
   ]
  },
  {
   "cell_type": "code",
   "execution_count": null,
   "metadata": {},
   "outputs": [],
   "source": [
    "Hotel3.insert(9,'Predicciones', y_pred)\n",
    "Hotel3"
   ]
  },
  {
   "cell_type": "code",
   "execution_count": null,
   "metadata": {},
   "outputs": [],
   "source": [
    "# Visualizamos la grafica comparativa entre\n",
    "sns.scatterplot(x='review_scores_cleanliness', y='price', color=\"blue\", data=Hotel3)\n",
    "sns.scatterplot(x='review_scores_cleanliness', y='Predicciones', color=\"red\", data=Hotel3)"
   ]
  },
  {
   "cell_type": "code",
   "execution_count": null,
   "metadata": {},
   "outputs": [],
   "source": [
    "# Corroboramos cual es el coeficiente de Determinacion de nuestro modelo\n",
    "coef_Deter = model.score(X=Vars_Indep, y=Var_Dep)\n",
    "coef_Deter"
   ]
  },
  {
   "cell_type": "code",
   "execution_count": null,
   "metadata": {},
   "outputs": [],
   "source": [
    "# Corroboramos cual es el coeficiente de Correlacion de nuestro modelo\n",
    "coef_Correl = np.sqrt(coef_Deter)\n",
    "coef_Correl"
   ]
  },
  {
   "cell_type": "code",
   "execution_count": null,
   "metadata": {},
   "outputs": [],
   "source": [
    "Hotel3 = Hotel3.drop(Hotel3.columns[27:51], axis=1)"
   ]
  },
  {
   "cell_type": "code",
   "execution_count": null,
   "metadata": {},
   "outputs": [],
   "source": [
    "# Graficamos todas las disperciones entre todas las variables\n",
    "sns.pairplot(Hotel3)"
   ]
  },
  {
   "cell_type": "code",
   "execution_count": null,
   "metadata": {},
   "outputs": [],
   "source": [
    "# Encontramos todas las correlaciones entre las variables\n",
    "Corr_Factors = Hotel3.corr()\n",
    "# Corr_Factors\n",
    "\n",
    "# Encontramos el valor absoluto de todas las correlaciones entre las variables\n",
    "Corr_Factors1 = abs(Corr_Factors)\n",
    "# Corr_Factors1"
   ]
  },
  {
   "cell_type": "code",
   "execution_count": null,
   "metadata": {},
   "outputs": [],
   "source": [
    "# Graficamos el mapa de color de las coeficientes de correlacion\n",
    "Heat_Map = sns.heatmap(Corr_Factors1, cmap = 'Reds')"
   ]
  },
  {
   "cell_type": "markdown",
   "metadata": {},
   "source": [
    "“price vs host_identity_verified” = “(dependiente, independiente)”"
   ]
  },
  {
   "cell_type": "code",
   "execution_count": null,
   "metadata": {},
   "outputs": [],
   "source": [
    "# Cargar archivo desde equipo\n",
    "Hotel4 = pd.read_csv(\"room4_Hotel.csv\")\n",
    "Hotel4 = Hotel4.drop(['Unnamed: 0'], axis=1)\n",
    "Hotel4.head(1)"
   ]
  },
  {
   "cell_type": "code",
   "execution_count": null,
   "metadata": {},
   "outputs": [],
   "source": [
    "Hotel4[\"host_identity_verified\"] = Hotel4[\"host_identity_verified\"].replace({\"t\": 1, \"f\": 0})"
   ]
  },
  {
   "cell_type": "code",
   "execution_count": null,
   "metadata": {},
   "outputs": [],
   "source": [
    "from turtle import color\n",
    "\n",
    "sns.scatterplot(x='host_identity_verified', y='price', color=\"red\", data=Hotel4)"
   ]
  },
  {
   "cell_type": "code",
   "execution_count": null,
   "metadata": {},
   "outputs": [],
   "source": [
    "# Declaramos las variables e independientes para la regresion lineal\n",
    "# vars_idep= df[['alcohol','speeding']]\n",
    "Vars_Indep =  Hotel4[['host_identity_verified']]\n",
    "Var_Dep = Hotel4['price']"
   ]
  },
  {
   "cell_type": "code",
   "execution_count": null,
   "metadata": {},
   "outputs": [],
   "source": [
    "# Se define model como la regresion lineal\n",
    "from sklearn.linear_model import LinearRegression\n",
    "model = LinearRegression()\n",
    "\n",
    "# Verificamos la funcion relacionada al modelo\n",
    "type(model)\n",
    "\n",
    "# Ajsutamos el modelo con las variables antes declaradas X:matriz, y: vector\n",
    "model.fit(X=Vars_Indep, y=Var_Dep)\n",
    "\n",
    "# Verificamos los coeficientes obtenidos para el modelo ajustado coef-a , intercept-b\n",
    "model.__dict__"
   ]
  },
  {
   "cell_type": "markdown",
   "metadata": {},
   "source": [
    "Modelo y = 111.74073529 +  1215.1875000000002"
   ]
  },
  {
   "cell_type": "code",
   "execution_count": null,
   "metadata": {},
   "outputs": [],
   "source": [
    "# Evaluamos la eficiencia del modelo obtenido por medio del coeficiente R Determinaci\n",
    "model.score(Vars_Indep,Var_Dep)"
   ]
  },
  {
   "cell_type": "code",
   "execution_count": null,
   "metadata": {},
   "outputs": [],
   "source": [
    "# Predecimos los valores\n",
    "y_pred= model.predict(X = Hotel4[['host_identity_verified']])\n",
    "y_pred"
   ]
  },
  {
   "cell_type": "code",
   "execution_count": null,
   "metadata": {},
   "outputs": [],
   "source": [
    "Hotel4.insert(9,'Predicciones', y_pred)\n",
    "Hotel4"
   ]
  },
  {
   "cell_type": "code",
   "execution_count": null,
   "metadata": {},
   "outputs": [],
   "source": [
    "# Visualizamos la grafica comparativa entre\n",
    "sns.scatterplot(x='host_identity_verified', y='price', color=\"blue\", data=Hotel4)\n",
    "sns.scatterplot(x='host_identity_verified', y='Predicciones', color=\"red\", data=Hotel4)"
   ]
  },
  {
   "cell_type": "code",
   "execution_count": null,
   "metadata": {},
   "outputs": [],
   "source": [
    "# Corroboramos cual es el coeficiente de Determinacion de nuestro modelo\n",
    "coef_Deter = model.score(X=Vars_Indep, y=Var_Dep)\n",
    "coef_Deter"
   ]
  },
  {
   "cell_type": "code",
   "execution_count": null,
   "metadata": {},
   "outputs": [],
   "source": [
    "# Corroboramos cual es el coeficiente de Correlacion de nuestro modelo\n",
    "coef_Correl = np.sqrt(coef_Deter)\n",
    "coef_Correl"
   ]
  },
  {
   "cell_type": "code",
   "execution_count": null,
   "metadata": {},
   "outputs": [],
   "source": [
    "Hotel4 = Hotel4.drop(Hotel4.loc[:, 'last_scraped':'host_has_profile_pic'].columns, axis=1)\n",
    "Hotel4 = Hotel4.drop(Hotel4.loc[:, 'neighbourhood':'instant_bookable'].columns, axis=1)\n",
    "# Hotel4.info()"
   ]
  },
  {
   "cell_type": "code",
   "execution_count": null,
   "metadata": {},
   "outputs": [],
   "source": [
    "# Graficamos todas las disperciones entre todas las variables\n",
    "sns.pairplot(Hotel4)"
   ]
  },
  {
   "cell_type": "code",
   "execution_count": null,
   "metadata": {},
   "outputs": [],
   "source": [
    "# Encontramos todas las correlaciones entre las variables\n",
    "Corr_Factors = Hotel4.corr()\n",
    "# Corr_Factors\n",
    "\n",
    "# Encontramos el valor absoluto de todas las correlaciones entre las variables\n",
    "Corr_Factors1 = abs(Corr_Factors)\n",
    "# Corr_Factors1"
   ]
  },
  {
   "cell_type": "code",
   "execution_count": null,
   "metadata": {},
   "outputs": [],
   "source": [
    "# Graficamos el mapa de color de las coeficientes de correlacion\n",
    "Heat_Map = sns.heatmap(Corr_Factors1, cmap = 'Reds')"
   ]
  },
  {
   "cell_type": "markdown",
   "metadata": {},
   "source": [
    "“price vs instant_bookable” = “(dependiente, independiente)”"
   ]
  },
  {
   "cell_type": "code",
   "execution_count": null,
   "metadata": {},
   "outputs": [],
   "source": [
    "# Cargar archivo desde equipo\n",
    "Hotel5 = pd.read_csv(\"room4_Hotel.csv\")\n",
    "Hotel5 = Hotel5.drop(['Unnamed: 0'], axis=1)\n",
    "Hotel5.head(1)"
   ]
  },
  {
   "cell_type": "code",
   "execution_count": null,
   "metadata": {},
   "outputs": [],
   "source": [
    "Hotel5[\"instant_bookable\"] = Hotel5[\"instant_bookable\"].replace({\"t\": 1, \"f\": 0})"
   ]
  },
  {
   "cell_type": "code",
   "execution_count": null,
   "metadata": {},
   "outputs": [],
   "source": [
    "# Imprimimos el scatter plot entre la variable (total) e independiente (alcohol)\n",
    "# para observar el coportamiento en su dispercion # el coeficiente de correlacion va a salir mas grande \n",
    "from turtle import color\n",
    "\n",
    "sns.scatterplot(x='instant_bookable', y='price', color=\"red\", data=Hotel5)"
   ]
  },
  {
   "cell_type": "code",
   "execution_count": null,
   "metadata": {},
   "outputs": [],
   "source": [
    "# Declaramos las variables e independientes para la regresion lineal\n",
    "# vars_idep= df[['alcohol','speeding']]\n",
    "Vars_Indep =  Hotel5[['instant_bookable']]\n",
    "Var_Dep = Hotel5['price']"
   ]
  },
  {
   "cell_type": "code",
   "execution_count": null,
   "metadata": {},
   "outputs": [],
   "source": [
    "# Se define model como la regresion lineal\n",
    "from sklearn.linear_model import LinearRegression\n",
    "model = LinearRegression()\n",
    "\n",
    "# Verificamos la funcion relacionada al modelo\n",
    "type(model)\n",
    "\n",
    "# Ajsutamos el modelo con las variables antes declaradas X:matriz, y: vector\n",
    "model.fit(X=Vars_Indep, y=Var_Dep)\n",
    "\n",
    "# Verificamos los coeficientes obtenidos para el modelo ajustado coef-a , intercept-b\n",
    "model.__dict__"
   ]
  },
  {
   "cell_type": "markdown",
   "metadata": {},
   "source": [
    "Modelo y = -162.07706735 + 1423.4260869565219"
   ]
  },
  {
   "cell_type": "code",
   "execution_count": null,
   "metadata": {},
   "outputs": [],
   "source": [
    "# Evaluamos la eficiencia del modelo obtenido por medio del coeficiente R Determinaci\n",
    "model.score(Vars_Indep,Var_Dep)"
   ]
  },
  {
   "cell_type": "code",
   "execution_count": null,
   "metadata": {},
   "outputs": [],
   "source": [
    "# Predecimos los valores\n",
    "y_pred= model.predict(X = Hotel5[['instant_bookable']])\n",
    "y_pred"
   ]
  },
  {
   "cell_type": "code",
   "execution_count": null,
   "metadata": {},
   "outputs": [],
   "source": [
    "Hotel5.insert(9,'Predicciones', y_pred)\n",
    "# Hotel5"
   ]
  },
  {
   "cell_type": "code",
   "execution_count": null,
   "metadata": {},
   "outputs": [],
   "source": [
    "# Visualizamos la grafica comparativa entre\n",
    "sns.scatterplot(x='instant_bookable', y='price', color=\"blue\", data=Hotel5)\n",
    "sns.scatterplot(x='instant_bookable', y='Predicciones', color=\"red\", data=Hotel5)"
   ]
  },
  {
   "cell_type": "code",
   "execution_count": null,
   "metadata": {},
   "outputs": [],
   "source": [
    "# Corroboramos cual es el coeficiente de Determinacion de nuestro modelo\n",
    "coef_Deter = model.score(X=Vars_Indep, y=Var_Dep)\n",
    "coef_Deter"
   ]
  },
  {
   "cell_type": "code",
   "execution_count": null,
   "metadata": {},
   "outputs": [],
   "source": [
    "# Corroboramos cual es el coeficiente de Correlacion de nuestro modelo\n",
    "coef_Correl = np.sqrt(coef_Deter)\n",
    "coef_Correl"
   ]
  },
  {
   "cell_type": "code",
   "execution_count": null,
   "metadata": {},
   "outputs": [],
   "source": [
    "Hotel5 = Hotel5.drop(Hotel5.loc[:, 'last_scraped':'license'].columns, axis=1)"
   ]
  },
  {
   "cell_type": "code",
   "execution_count": null,
   "metadata": {},
   "outputs": [],
   "source": [
    "# Graficamos todas las disperciones entre todas las variables\n",
    "sns.pairplot(Hotel5)"
   ]
  },
  {
   "cell_type": "code",
   "execution_count": null,
   "metadata": {},
   "outputs": [],
   "source": [
    "# Encontramos todas las correlaciones entre las variables\n",
    "Corr_Factors = Hotel5.corr()\n",
    "# Corr_Factors\n",
    "\n",
    "# Encontramos el valor absoluto de todas las correlaciones entre las variables\n",
    "Corr_Factors1 = abs(Corr_Factors)\n",
    "# Corr_Factors1"
   ]
  },
  {
   "cell_type": "code",
   "execution_count": null,
   "metadata": {},
   "outputs": [],
   "source": [
    "# Graficamos el mapa de color de las coeficientes de correlacion\n",
    "Heat_Map = sns.heatmap(Corr_Factors1, cmap = 'Reds')"
   ]
  },
  {
   "cell_type": "markdown",
   "metadata": {},
   "source": [
    "“Price vs property_type” = “(dependiente, independiente)”"
   ]
  },
  {
   "cell_type": "code",
   "execution_count": null,
   "metadata": {},
   "outputs": [],
   "source": [
    "# Cargar archivo desde equipo\n",
    "Hotel6 = pd.read_csv(\"room4_Hotel.csv\")\n",
    "Hotel6 = Hotel6.drop(['Unnamed: 0'], axis=1)\n",
    "Hotel6.head(1)"
   ]
  },
  {
   "cell_type": "code",
   "execution_count": null,
   "metadata": {},
   "outputs": [],
   "source": [
    "Hotel6[\"property_type\"] = Hotel6[\"property_type\"].replace({\n",
    "    \"Room in serviced apartment\": 1,\n",
    "    \"Room in boutique hotel\": 2,\n",
    "    \"Room in bed and breakfast\": 3,\n",
    "    \"Room in aparthotel\": 4,\n",
    "    \"Room in hotel\": 5,\n",
    "    \"Room in casa particular\": 6,\n",
    "    \"Room in hostel\": 7\n",
    "})\n"
   ]
  },
  {
   "cell_type": "code",
   "execution_count": null,
   "metadata": {},
   "outputs": [],
   "source": [
    "Hotel6.info()"
   ]
  },
  {
   "cell_type": "code",
   "execution_count": null,
   "metadata": {},
   "outputs": [],
   "source": [
    "from turtle import color\n",
    "\n",
    "sns.scatterplot(x='property_type', y='price', color=\"red\", data=Hotel6)"
   ]
  },
  {
   "cell_type": "code",
   "execution_count": null,
   "metadata": {},
   "outputs": [],
   "source": [
    "# Declaramos las variables e independientes para la regresion lineal\n",
    "# vars_idep= df[['alcohol','speeding']]\n",
    "Vars_Indep =  Hotel6[['property_type']]\n",
    "Var_Dep = Hotel6['price']"
   ]
  },
  {
   "cell_type": "code",
   "execution_count": null,
   "metadata": {},
   "outputs": [],
   "source": [
    "# Se define model como la regresion lineal\n",
    "from sklearn.linear_model import LinearRegression\n",
    "model = LinearRegression()\n",
    "\n",
    "# Verificamos la funcion relacionada al modelo\n",
    "type(model)\n",
    "\n",
    "# Ajsutamos el modelo con las variables antes declaradas X:matriz, y: vector\n",
    "model.fit(X=Vars_Indep, y=Var_Dep)\n",
    "\n",
    "# Verificamos los coeficientes obtenidos para el modelo ajustado coef-a , intercept-b\n",
    "model.__dict__"
   ]
  },
  {
   "cell_type": "markdown",
   "metadata": {},
   "source": [
    "Modelo y = -50.11548523 + 1455.5499915611817"
   ]
  },
  {
   "cell_type": "code",
   "execution_count": null,
   "metadata": {},
   "outputs": [],
   "source": [
    "# Evaluamos la eficiencia del modelo obtenido por medio del coeficiente R Determinaci\n",
    "model.score(Vars_Indep,Var_Dep)"
   ]
  },
  {
   "cell_type": "code",
   "execution_count": null,
   "metadata": {},
   "outputs": [],
   "source": [
    "# Predecimos los valores\n",
    "y_pred= model.predict(X = Hotel6[['property_type']])\n",
    "y_pred"
   ]
  },
  {
   "cell_type": "code",
   "execution_count": null,
   "metadata": {},
   "outputs": [],
   "source": [
    "Hotel6.insert(9,'Predicciones', y_pred)\n",
    "Hotel6"
   ]
  },
  {
   "cell_type": "code",
   "execution_count": null,
   "metadata": {},
   "outputs": [],
   "source": [
    "# Visualizamos la grafica comparativa entre\n",
    "sns.scatterplot(x='property_type', y='price', color=\"blue\", data=Hotel6)\n",
    "sns.scatterplot(x='property_type', y='Predicciones', color=\"red\", data=Hotel6)"
   ]
  },
  {
   "cell_type": "code",
   "execution_count": null,
   "metadata": {},
   "outputs": [],
   "source": [
    "# Corroboramos cual es el coeficiente de Determinacion de nuestro modelo\n",
    "coef_Deter = model.score(X=Vars_Indep, y=Var_Dep)\n",
    "coef_Deter"
   ]
  },
  {
   "cell_type": "code",
   "execution_count": null,
   "metadata": {},
   "outputs": [],
   "source": [
    "# Corroboramos cual es el coeficiente de Correlacion de nuestro modelo\n",
    "coef_Correl = np.sqrt(coef_Deter)\n",
    "coef_Correl"
   ]
  },
  {
   "cell_type": "code",
   "execution_count": null,
   "metadata": {},
   "outputs": [],
   "source": [
    "Hotel6 = Hotel6.drop(Hotel6.loc[:, 'last_scraped':'neighbourhood'].columns, axis=1)\n",
    "Hotel6 = Hotel6.drop(Hotel6.loc[:, 'room_type':'instant_bookable'].columns, axis=1)"
   ]
  },
  {
   "cell_type": "code",
   "execution_count": null,
   "metadata": {},
   "outputs": [],
   "source": [
    "# Graficamos todas las disperciones entre todas las variables\n",
    "sns.pairplot(Hotel6)"
   ]
  },
  {
   "cell_type": "code",
   "execution_count": null,
   "metadata": {},
   "outputs": [],
   "source": [
    "# Encontramos todas las correlaciones entre las variables\n",
    "Corr_Factors = Hotel6.corr()\n",
    "# Corr_Factors\n",
    "\n",
    "# Encontramos el valor absoluto de todas las correlaciones entre las variables\n",
    "Corr_Factors1 = abs(Corr_Factors)\n",
    "# Corr_Factors1"
   ]
  },
  {
   "cell_type": "code",
   "execution_count": null,
   "metadata": {},
   "outputs": [],
   "source": [
    "# Graficamos el mapa de color de las coeficientes de correlacion\n",
    "Heat_Map = sns.heatmap(Corr_Factors1, cmap = 'Reds')"
   ]
  }
 ],
 "metadata": {
  "kernelspec": {
   "display_name": "Python 3",
   "language": "python",
   "name": "python3"
  },
  "language_info": {
   "codemirror_mode": {
    "name": "ipython",
    "version": 3
   },
   "file_extension": ".py",
   "mimetype": "text/x-python",
   "name": "python",
   "nbconvert_exporter": "python",
   "pygments_lexer": "ipython3",
   "version": "3.11.2"
  }
 },
 "nbformat": 4,
 "nbformat_minor": 2
}
